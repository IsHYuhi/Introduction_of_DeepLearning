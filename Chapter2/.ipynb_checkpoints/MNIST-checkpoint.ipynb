{
 "cells": [
  {
   "cell_type": "markdown",
   "metadata": {},
   "source": [
    "# 多項分類器によるMNIST分類"
   ]
  },
  {
   "cell_type": "code",
   "execution_count": 1,
   "metadata": {},
   "outputs": [
    {
     "name": "stdout",
     "output_type": "stream",
     "text": [
      "WARNING:tensorflow:From /usr/local/lib/python3.6/site-packages/tensorflow/contrib/learn/python/learn/datasets/base.py:198: retry (from tensorflow.contrib.learn.python.learn.datasets.base) is deprecated and will be removed in a future version.\n",
      "Instructions for updating:\n",
      "Use the retry module or similar alternatives.\n"
     ]
    }
   ],
   "source": [
    "import numpy as np\n",
    "import matplotlib.pyplot as plt\n",
    "from tensorflow.examples.tutorials.mnist import input_data"
   ]
  },
  {
   "cell_type": "markdown",
   "metadata": {},
   "source": [
    "http://yann.lecun.com/exdb/mnist/\n",
    "からダウンロードした記憶がある"
   ]
  },
  {
   "cell_type": "code",
   "execution_count": 3,
   "metadata": {},
   "outputs": [
    {
     "name": "stdout",
     "output_type": "stream",
     "text": [
      "Extracting /tmp/data/train-images-idx3-ubyte.gz\n",
      "Extracting /tmp/data/train-labels-idx1-ubyte.gz\n",
      "Extracting /tmp/data/t10k-images-idx3-ubyte.gz\n",
      "Extracting /tmp/data/t10k-labels-idx1-ubyte.gz\n"
     ]
    }
   ],
   "source": [
    "mnist = input_data.read_data_sets(\"/tmp/data/\", one_hot=True)#ここのone_hotはone_hotエンコーディングのこと？？？後で確認"
   ]
  },
  {
   "cell_type": "code",
   "execution_count": 4,
   "metadata": {},
   "outputs": [],
   "source": [
    "images, labels = mnist.train.next_batch(10)"
   ]
  },
  {
   "cell_type": "code",
   "execution_count": 5,
   "metadata": {},
   "outputs": [
    {
     "name": "stdout",
     "output_type": "stream",
     "text": [
      "[0.         0.         0.         0.         0.         0.\n",
      " 0.         0.         0.         0.         0.         0.\n",
      " 0.         0.         0.         0.         0.         0.\n",
      " 0.         0.         0.         0.         0.         0.\n",
      " 0.         0.         0.         0.         0.         0.\n",
      " 0.         0.         0.         0.         0.         0.\n",
      " 0.         0.         0.         0.         0.         0.\n",
      " 0.         0.         0.         0.         0.         0.\n",
      " 0.         0.         0.         0.         0.         0.\n",
      " 0.         0.         0.         0.         0.         0.\n",
      " 0.         0.         0.         0.         0.         0.\n",
      " 0.         0.         0.         0.         0.         0.\n",
      " 0.         0.         0.         0.         0.         0.\n",
      " 0.         0.         0.         0.         0.         0.\n",
      " 0.         0.         0.         0.         0.         0.\n",
      " 0.         0.         0.         0.         0.         0.\n",
      " 0.         0.         0.         0.         0.         0.\n",
      " 0.         0.         0.         0.         0.         0.\n",
      " 0.         0.         0.         0.         0.         0.\n",
      " 0.         0.         0.         0.         0.         0.\n",
      " 0.         0.         0.         0.         0.         0.\n",
      " 0.         0.654902   0.9960785  0.5921569  0.         0.\n",
      " 0.         0.         0.         0.         0.         0.\n",
      " 0.         0.         0.         0.         0.         0.\n",
      " 0.         0.         0.         0.         0.         0.\n",
      " 0.         0.         0.         0.         0.4901961  0.9960785\n",
      " 0.9921569  0.9490197  0.23529413 0.02745098 0.         0.\n",
      " 0.         0.         0.         0.         0.         0.\n",
      " 0.         0.         0.         0.         0.         0.\n",
      " 0.         0.         0.         0.         0.         0.\n",
      " 0.         0.         0.58431375 0.9960785  0.9921569  0.9921569\n",
      " 0.9921569  0.49803925 0.         0.         0.         0.\n",
      " 0.         0.         0.         0.         0.         0.\n",
      " 0.         0.         0.         0.         0.         0.\n",
      " 0.         0.         0.         0.         0.         0.\n",
      " 0.58431375 0.9960785  0.9921569  0.9921569  0.9921569  0.69803923\n",
      " 0.         0.         0.         0.         0.         0.\n",
      " 0.         0.         0.         0.         0.         0.\n",
      " 0.         0.         0.         0.         0.         0.\n",
      " 0.         0.         0.10588236 0.40000004 0.9450981  0.9960785\n",
      " 0.9921569  0.9921569  0.9921569  0.9607844  0.43137258 0.\n",
      " 0.         0.         0.         0.         0.         0.\n",
      " 0.         0.         0.         0.         0.         0.\n",
      " 0.         0.         0.         0.         0.01568628 0.11764707\n",
      " 0.77647066 0.9921569  0.9921569  0.9490197  0.9725491  0.9921569\n",
      " 0.9921569  0.9921569  0.9568628  0.33333334 0.         0.\n",
      " 0.         0.         0.         0.         0.         0.\n",
      " 0.         0.         0.         0.         0.         0.\n",
      " 0.         0.         0.11764707 0.9921569  0.9921569  0.9921569\n",
      " 0.6784314  0.2784314  0.38823533 0.49803925 0.9921569  0.9921569\n",
      " 0.9921569  0.74509805 0.34509805 0.         0.         0.\n",
      " 0.         0.         0.         0.         0.         0.\n",
      " 0.         0.         0.         0.         0.         0.4901961\n",
      " 0.9450981  0.9921569  0.86666673 0.19215688 0.02352941 0.\n",
      " 0.         0.03921569 0.8078432  0.9921569  0.9921569  0.9921569\n",
      " 0.76470596 0.08235294 0.         0.         0.         0.\n",
      " 0.         0.         0.         0.         0.         0.\n",
      " 0.         0.         0.08627451 0.90196085 0.9921569  0.9921569\n",
      " 0.6392157  0.         0.         0.         0.         0.\n",
      " 0.10980393 0.9058824  0.9921569  0.9921569  0.9921569  0.23137257\n",
      " 0.         0.         0.         0.         0.         0.\n",
      " 0.         0.         0.         0.         0.         0.03529412\n",
      " 0.77647066 0.9921569  0.9921569  0.9921569  0.6392157  0.\n",
      " 0.         0.         0.         0.         0.         0.87843144\n",
      " 0.9921569  0.9921569  0.9921569  0.23137257 0.         0.\n",
      " 0.         0.         0.         0.         0.         0.\n",
      " 0.         0.         0.         0.64705884 0.9960785  0.9960785\n",
      " 0.9960785  0.9960785  0.4039216  0.         0.         0.\n",
      " 0.         0.         0.         0.6431373  0.9960785  0.9960785\n",
      " 0.6431373  0.         0.         0.         0.         0.\n",
      " 0.         0.         0.         0.         0.         0.\n",
      " 0.05882353 0.7254902  0.9921569  0.9921569  0.96470594 0.44705886\n",
      " 0.01176471 0.         0.         0.         0.         0.\n",
      " 0.1137255  0.8078432  0.9921569  0.86666673 0.14509805 0.\n",
      " 0.         0.         0.         0.         0.         0.\n",
      " 0.         0.         0.         0.         0.23529413 0.9921569\n",
      " 0.9921569  0.9921569  0.49411768 0.         0.         0.\n",
      " 0.         0.         0.         0.03921569 0.8078432  0.9921569\n",
      " 0.9921569  0.4666667  0.         0.         0.         0.\n",
      " 0.         0.         0.         0.         0.         0.\n",
      " 0.         0.         0.23529413 0.9921569  0.9921569  0.9921569\n",
      " 0.2901961  0.         0.         0.         0.         0.\n",
      " 0.1137255  0.5019608  0.9921569  0.9921569  0.9921569  0.4666667\n",
      " 0.         0.         0.         0.         0.         0.\n",
      " 0.         0.         0.         0.         0.         0.\n",
      " 0.23529413 0.9921569  0.9921569  0.9921569  0.46274513 0.\n",
      " 0.         0.         0.1764706  0.8862746  0.9058824  0.9921569\n",
      " 0.9921569  0.9921569  0.8862746  0.05490196 0.         0.\n",
      " 0.         0.         0.         0.         0.         0.\n",
      " 0.         0.         0.         0.         0.23529413 0.9921569\n",
      " 0.9921569  0.9921569  0.89019614 0.11764707 0.11764707 0.5686275\n",
      " 0.8745099  0.9960785  0.9921569  0.9921569  0.9921569  0.7137255\n",
      " 0.25490198 0.         0.         0.         0.         0.\n",
      " 0.         0.         0.         0.         0.         0.\n",
      " 0.         0.         0.1137255  0.8078432  0.9921569  0.9921569\n",
      " 0.9921569  0.9921569  0.9921569  0.9921569  0.9921569  0.9960785\n",
      " 0.9921569  0.64705884 0.4666667  0.05490196 0.         0.\n",
      " 0.         0.         0.         0.         0.         0.\n",
      " 0.         0.         0.         0.         0.         0.\n",
      " 0.         0.43921572 0.9921569  0.9921569  0.9921569  0.9921569\n",
      " 0.9921569  0.9921569  0.9921569  1.         0.56078434 0.01960784\n",
      " 0.         0.         0.         0.         0.         0.\n",
      " 0.         0.         0.         0.         0.         0.\n",
      " 0.         0.         0.         0.         0.         0.01568628\n",
      " 0.5058824  0.81568635 0.94117653 0.9921569  0.9921569  0.9921569\n",
      " 0.8862746  0.5764706  0.04313726 0.         0.         0.\n",
      " 0.         0.         0.         0.         0.         0.\n",
      " 0.         0.         0.         0.         0.         0.\n",
      " 0.         0.         0.         0.         0.         0.\n",
      " 0.36078432 0.9921569  0.9921569  0.5411765  0.16862746 0.\n",
      " 0.         0.         0.         0.         0.         0.\n",
      " 0.         0.         0.         0.         0.         0.\n",
      " 0.         0.         0.         0.         0.         0.\n",
      " 0.         0.         0.         0.         0.         0.\n",
      " 0.         0.         0.         0.         0.         0.\n",
      " 0.         0.         0.         0.         0.         0.\n",
      " 0.         0.         0.         0.         0.         0.\n",
      " 0.         0.         0.         0.         0.         0.\n",
      " 0.         0.         0.         0.         0.         0.\n",
      " 0.         0.         0.         0.         0.         0.\n",
      " 0.         0.         0.         0.         0.         0.\n",
      " 0.         0.         0.         0.         0.         0.\n",
      " 0.         0.         0.         0.         0.         0.\n",
      " 0.         0.         0.         0.         0.         0.\n",
      " 0.         0.         0.         0.         0.         0.\n",
      " 0.         0.         0.         0.         0.         0.\n",
      " 0.         0.         0.         0.         0.         0.\n",
      " 0.         0.         0.         0.         0.         0.\n",
      " 0.         0.         0.         0.         0.         0.\n",
      " 0.         0.         0.         0.         0.         0.\n",
      " 0.         0.         0.         0.        ]\n"
     ]
    }
   ],
   "source": [
    "print(images[0])"
   ]
  },
  {
   "cell_type": "code",
   "execution_count": 6,
   "metadata": {},
   "outputs": [
    {
     "name": "stdout",
     "output_type": "stream",
     "text": [
      "[1. 0. 0. 0. 0. 0. 0. 0. 0. 0.]\n"
     ]
    }
   ],
   "source": [
    "print(labels[0]) #ここでone-hotエンコーディングされたラベルがついてることを確認した"
   ]
  },
  {
   "cell_type": "code",
   "execution_count": 11,
   "metadata": {},
   "outputs": [
    {
     "data": {
      "image/png": "[encoded data removed]",
      "text/plain": [
       "<Figure size 576x288 with 10 Axes>"
      ]
     },
     "metadata": {},
     "output_type": "display_data"
    }
   ],
   "source": [
    "fig = plt.figure(figsize = (8,4))\n",
    "for c, (image, label) in enumerate(zip(images, labels)):#zipは最も小さいサイズのシーケンスの要素を処理し尽くした時に止まる\n",
    "    subplot = fig.add_subplot(2, 5, c+1)\n",
    "    subplot.set_xticks([])\n",
    "    subplot.set_yticks([])\n",
    "    subplot.set_title('%d' % np.argmax(label)) #labelのマックスのインデックスを返す、つまりonehotエンコーディングなので数字の番号を返す\n",
    "    subplot.imshow(image.reshape((28,28)), vmin =0, vmax = 1, cmap = plt.cm.gray_r, interpolation=\"nearest\")#一次元なのでrehape()\n",
    "    #cmap = plt.cm.gray_rは、画像をグレースケールで表示する指定で、vminとvmaxは濃度として含まれる数値の最小値と最大値を与えることで、画像の濃淡を適切に調整している。\n",
    "    #interpolation=\"nearest\"の指定で画像を滑らかに修正する機能を消している。"
   ]
  },
  {
   "cell_type": "code",
   "execution_count": null,
   "metadata": {},
   "outputs": [],
   "source": []
  }
 ],
 "metadata": {
  "kernelspec": {
   "display_name": "Python 3",
   "language": "python",
   "name": "python3"
  },
  "language_info": {
   "codemirror_mode": {
    "name": "ipython",
    "version": 3
   },
   "file_extension": ".py",
   "mimetype": "text/x-python",
   "name": "python",
   "nbconvert_exporter": "python",
   "pygments_lexer": "ipython3",
   "version": "3.6.5"
  }
 },
 "nbformat": 4,
 "nbformat_minor": 2
}
