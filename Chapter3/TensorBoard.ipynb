{
 "cells": [
  {
   "cell_type": "markdown",
   "metadata": {},
   "source": [
    "# TensorBoardによる単層NNのネットワークグラフの確認"
   ]
  },
  {
   "cell_type": "code",
   "execution_count": 10,
   "metadata": {},
   "outputs": [
    {
     "name": "stdout",
     "output_type": "stream",
     "text": [
      "Extracting /tmp/data/train-images-idx3-ubyte.gz\n",
      "Extracting /tmp/data/train-labels-idx1-ubyte.gz\n",
      "Extracting /tmp/data/t10k-images-idx3-ubyte.gz\n",
      "Extracting /tmp/data/t10k-labels-idx1-ubyte.gz\n"
     ]
    }
   ],
   "source": [
    "import tensorflow as tf\n",
    "import numpy as np\n",
    "import matplotlib.pyplot as plt\n",
    "from tensorflow.examples.tutorials.mnist import input_data\n",
    "\n",
    "np.random.seed(42)\n",
    "tf.set_random_seed(42)\n",
    "\n",
    "mnist = input_data.read_data_sets(\"/tmp/data/\", one_hot = True)"
   ]
  },
  {
   "cell_type": "markdown",
   "metadata": {},
   "source": [
    "### - with構文を用いたグラフコンテキスト内に、Placeholder, Variable, 計算値の定義を記載する\n",
    "### - with構文によるネームスコープを用いて、入力層、隠れ層、出力層などに構成要素をグループ化する\n",
    "### - ネットワークグラフに付与するラベル名をコード内で指定する\n",
    "### - グラフに表示するパラメーターを宣言して SummaryWriterオブジェクトでデータを書き出す"
   ]
  },
  {
   "cell_type": "code",
   "execution_count": 24,
   "metadata": {},
   "outputs": [],
   "source": [
    "class SingleLayerNetwork:\n",
    "    def __init__(self, num_units):\n",
    "        with tf.Graph().as_default(): #with構文は、開始と終了に必ずしなければいけない一連の作業がある場合に活躍する\n",
    "            self.prepare_model(num_units)\n",
    "            self.prepare_session()\n",
    "    \n",
    "    def prepare_model(self, num_units):\n",
    "        with tf.name_scope('input'):\n",
    "            x = tf.placeholder(tf.float32, [None, 784], name='input')\n",
    "            \n",
    "        with tf.name_scope('hidden'):\n",
    "            w1 = tf.Variable(tf.truncated_normal([784, num_units]), name='weights')\n",
    "            b1 = tf.Variable(tf.zeros([num_units]), name = 'biases')\n",
    "            hidden1 = tf.nn.relu(tf.matmul(x, w1) +b1, name='hidden1')\n",
    "            \n",
    "        with tf.name_scope('output'):\n",
    "            w0 = tf.Variable(tf.zeros([num_units, 10]), name='weights')\n",
    "            b0 = tf.Variable(tf.zeros([10]), name='biases')\n",
    "            p = tf.nn.softmax(tf.matmul(hidden1, w0) + b0, name='softmax')\n",
    "            \n",
    "        with tf.name_scope('optimizer'):\n",
    "            t = tf.placeholder(tf.float32, [None, 10], name='labels')\n",
    "            loss = - tf.reduce_sum(t*tf.log(p), name = 'loss')\n",
    "            train_step = tf.train.AdamOptimizer().minimize(loss)\n",
    "            \n",
    "        with tf.name_scope('evaluator'):\n",
    "            correct_prediction = tf.equal(tf.argmax(p, 1), tf.argmax(t, 1))\n",
    "            accuracy = tf.reduce_mean(tf.cast(correct_prediction, tf.float32), name = 'accuracy')\n",
    "            \n",
    "        tf.summary.scalar(\"loss\", loss)  #tf.scalar_summary()ではなくtf.summary.scalar()を使う\n",
    "        tf.summary.scalar(\"accuracy\", accuracy)\n",
    "        tf.summary.histogram(\"weights_hidden\", w1) # tf.histogram_summary()ではなくtf.summary.histogram()を使う\n",
    "        tf.summary.histogram(\"biases_hidden\", b1)\n",
    "        tf.summary.histogram(\"weights_output\", w0)\n",
    "        tf.summary.histogram(\"biases_output\", b0)\n",
    "        \n",
    "        self.x, self.t, self.p = x, t, p\n",
    "        self.train_step = train_step\n",
    "        self.loss = loss\n",
    "        self.accuracy = accuracy\n",
    "        \n",
    "    def prepare_session(self):\n",
    "        sess = tf.InteractiveSession()\n",
    "        sess.run(tf.global_variables_initializer())\n",
    "        summary = tf.summary.merge_all() #それぞれのサマリーをマージしている tf.merge_all_summaries()ではなくtf.summary.merge_all()を使う\n",
    "        writer = tf.summary.FileWriter(\"./mnist_sl_logs\", sess.graph) #tf.train.SummaryWriter() -> tf.summary.FileWriter()\n",
    "        \n",
    "        self.sess = sess\n",
    "        self.summary = summary\n",
    "        self.writer = writer"
   ]
  },
  {
   "cell_type": "markdown",
   "metadata": {},
   "source": [
    "with構文によって、個別のネームスコープのコンテキストを設定している。\n",
    "これは、それぞれの構成要素をグループ化するもので、ネットワークグラフを表示する際に、同じグループの要素が1つの枠にまとめて表示される。\n",
    "with構文でネームスコープを設定する場合は、引数でグループの名前を指定する。また、それぞれの要素に対して、nameオプションで、ネットワーク上に表示する名前を指定している。"
   ]
  },
  {
   "cell_type": "markdown",
   "metadata": {},
   "source": [
    "### データ出力先のディレクトリに以前のデータが残っていると出力が乱れるのでディレクトリを削除しておく"
   ]
  },
  {
   "cell_type": "code",
   "execution_count": 11,
   "metadata": {},
   "outputs": [],
   "source": [
    "!rm -rf ./mnist_sl_logs"
   ]
  },
  {
   "cell_type": "code",
   "execution_count": 25,
   "metadata": {},
   "outputs": [
    {
     "name": "stdout",
     "output_type": "stream",
     "text": [
      "Step: 100, Loss: 2541.569336, Accuracy: 0.925900\n",
      "Step: 200, Loss: 2233.829102, Accuracy: 0.936700\n",
      "Step: 300, Loss: 1998.636230, Accuracy: 0.941400\n",
      "Step: 400, Loss: 1890.096558, Accuracy: 0.945000\n",
      "Step: 500, Loss: 1749.049316, Accuracy: 0.944700\n",
      "Step: 600, Loss: 1395.699463, Accuracy: 0.957300\n",
      "Step: 700, Loss: 1350.074951, Accuracy: 0.959800\n",
      "Step: 800, Loss: 1298.422119, Accuracy: 0.960200\n",
      "Step: 900, Loss: 1187.688965, Accuracy: 0.965500\n",
      "Step: 1000, Loss: 1060.380859, Accuracy: 0.967000\n",
      "Step: 1100, Loss: 1205.623291, Accuracy: 0.963700\n",
      "Step: 1200, Loss: 1064.372437, Accuracy: 0.968200\n",
      "Step: 1300, Loss: 1159.237061, Accuracy: 0.965500\n",
      "Step: 1400, Loss: 1035.038330, Accuracy: 0.967600\n",
      "Step: 1500, Loss: 1027.867432, Accuracy: 0.968700\n",
      "Step: 1600, Loss: 1075.445679, Accuracy: 0.967400\n",
      "Step: 1700, Loss: 982.560669, Accuracy: 0.968400\n",
      "Step: 1800, Loss: 950.796997, Accuracy: 0.972500\n",
      "Step: 1900, Loss: 1018.834534, Accuracy: 0.971500\n",
      "Step: 2000, Loss: 931.307495, Accuracy: 0.973100\n"
     ]
    }
   ],
   "source": [
    "nn = SingleLayerNetwork(1024)\n",
    "\n",
    "i = 0\n",
    "for _ in range(2000):\n",
    "    i += 1\n",
    "    batch_xs, batch_ts = mnist.train.next_batch(100)\n",
    "    nn.sess.run(nn.train_step, feed_dict={nn.x:batch_xs, nn.t: batch_ts})\n",
    "    if i % 100 ==0:\n",
    "        summary, loss_val, acc_val = nn.sess.run([nn.summary, nn.loss, nn.accuracy], feed_dict = {nn.x:mnist.test.images, nn.t:mnist.test.labels})\n",
    "        print('Step: %d, Loss: %f, Accuracy: %f' % (i, loss_val, acc_val))\n",
    "        nn.writer.add_summary(summary, i)"
   ]
  },
  {
   "cell_type": "markdown",
   "metadata": {},
   "source": [
    "# TensorBoardによる可視化\n",
    "### terminal上で ```tensorboard --logdir=./mnist_sl_logs```\n",
    "起動後 http://localhost:6006 にアクセス"
   ]
  }
 ],
 "metadata": {
  "kernelspec": {
   "display_name": "Python 3",
   "language": "python",
   "name": "python3"
  },
  "language_info": {
   "codemirror_mode": {
    "name": "ipython",
    "version": 3
   },
   "file_extension": ".py",
   "mimetype": "text/x-python",
   "name": "python",
   "nbconvert_exporter": "python",
   "pygments_lexer": "ipython3",
   "version": "3.6.5"
  }
 },
 "nbformat": 4,
 "nbformat_minor": 2
}
