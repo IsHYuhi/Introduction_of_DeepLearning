{
 "cells": [
  {
   "cell_type": "markdown",
   "metadata": {},
   "source": [
    "# TensorFlowによる多層CNNの実装"
   ]
  },
  {
   "cell_type": "code",
   "execution_count": 3,
   "metadata": {},
   "outputs": [
    {
     "name": "stdout",
     "output_type": "stream",
     "text": [
      "WARNING:tensorflow:From /usr/local/lib/python3.6/site-packages/tensorflow/contrib/learn/python/learn/datasets/base.py:198: retry (from tensorflow.contrib.learn.python.learn.datasets.base) is deprecated and will be removed in a future version.\n",
      "Instructions for updating:\n",
      "Use the retry module or similar alternatives.\n"
     ]
    }
   ],
   "source": [
    "import tensorflow as tf\n",
    "import numpy as np\n",
    "import matplotlib.pyplot as plt\n",
    "from tensorflow.examples.tutorials.mnist import input_data\n",
    "\n",
    "np.random.seed(42)\n",
    "tf.set_random_seed(42)"
   ]
  },
  {
   "cell_type": "code",
   "execution_count": 5,
   "metadata": {},
   "outputs": [
    {
     "name": "stdout",
     "output_type": "stream",
     "text": [
      "WARNING:tensorflow:From <ipython-input-5-d651cc53d7d8>:1: read_data_sets (from tensorflow.contrib.learn.python.learn.datasets.mnist) is deprecated and will be removed in a future version.\n",
      "Instructions for updating:\n",
      "Please use alternatives such as official/mnist/dataset.py from tensorflow/models.\n",
      "WARNING:tensorflow:From /usr/local/lib/python3.6/site-packages/tensorflow/contrib/learn/python/learn/datasets/mnist.py:260: maybe_download (from tensorflow.contrib.learn.python.learn.datasets.base) is deprecated and will be removed in a future version.\n",
      "Instructions for updating:\n",
      "Please write your own downloading logic.\n",
      "WARNING:tensorflow:From /usr/local/lib/python3.6/site-packages/tensorflow/contrib/learn/python/learn/datasets/mnist.py:262: extract_images (from tensorflow.contrib.learn.python.learn.datasets.mnist) is deprecated and will be removed in a future version.\n",
      "Instructions for updating:\n",
      "Please use tf.data to implement this functionality.\n",
      "Extracting /tmp/data/train-images-idx3-ubyte.gz\n",
      "WARNING:tensorflow:From /usr/local/lib/python3.6/site-packages/tensorflow/contrib/learn/python/learn/datasets/mnist.py:267: extract_labels (from tensorflow.contrib.learn.python.learn.datasets.mnist) is deprecated and will be removed in a future version.\n",
      "Instructions for updating:\n",
      "Please use tf.data to implement this functionality.\n",
      "Extracting /tmp/data/train-labels-idx1-ubyte.gz\n",
      "WARNING:tensorflow:From /usr/local/lib/python3.6/site-packages/tensorflow/contrib/learn/python/learn/datasets/mnist.py:110: dense_to_one_hot (from tensorflow.contrib.learn.python.learn.datasets.mnist) is deprecated and will be removed in a future version.\n",
      "Instructions for updating:\n",
      "Please use tf.one_hot on tensors.\n",
      "Extracting /tmp/data/t10k-images-idx3-ubyte.gz\n",
      "Extracting /tmp/data/t10k-labels-idx1-ubyte.gz\n",
      "WARNING:tensorflow:From /usr/local/lib/python3.6/site-packages/tensorflow/contrib/learn/python/learn/datasets/mnist.py:290: DataSet.__init__ (from tensorflow.contrib.learn.python.learn.datasets.mnist) is deprecated and will be removed in a future version.\n",
      "Instructions for updating:\n",
      "Please use alternatives such as official/mnist/dataset.py from tensorflow/models.\n"
     ]
    }
   ],
   "source": [
    "mnist = input_data.read_data_sets(\"/tmp/data/\", one_hot=True)"
   ]
  },
  {
   "cell_type": "code",
   "execution_count": 9,
   "metadata": {},
   "outputs": [],
   "source": [
    "num_filters1 = 32\n",
    "\n",
    "x = tf.placeholder(tf.float32, [None, 784])\n",
    "x_image = tf.reshape(x, [-1, 28, 28, 1])\n",
    "\n",
    "W_conv1 = tf.Variable(tf.truncated_normal([5,5,1,num_filters1], stddev = 0.1))\n",
    "\n",
    "h_conv1 = tf.nn.conv2d(x_image, W_conv1, strides=[1,1,1,1], padding='SAME')\n",
    "\n",
    "b_conv1 = tf.Variable(tf.constant(0.1, shape=[num_filters1])) #ReLUでカットする閾値を決める 初期値は0.1\n",
    "h_conv1_cutoff = tf.nn.relu(h_conv1 + b_conv1)\n",
    "\n",
    "h_pool1 = tf.nn.max_pool(h_conv1_cutoff, ksize=[1,2,2,1], strides=[1,2,2,1], padding = 'SAME')"
   ]
  },
  {
   "cell_type": "code",
   "execution_count": 12,
   "metadata": {},
   "outputs": [],
   "source": [
    "num_filters2 = 64\n",
    "\n",
    "W_conv2 = tf.Variable(tf.truncated_normal([5,5,num_filters1, num_filters2], stddev=0.1))\n",
    "\n",
    "h_conv2 = tf.nn.conv2d(h_pool1, W_conv2, strides=[1,1,1,1], padding='SAME')\n",
    "\n",
    "b_conv2 = tf.Variable(tf.constant(0.1, shape=[num_filters2]))\n",
    "h_conv2_cutoff = tf.nn.relu(h_conv2 + b_conv2)\n",
    "\n",
    "h_pool2 = tf.nn.max_pool(h_conv2_cutoff, ksize=[1,2,2,1], strides=[1,2,2,1], padding='SAME')"
   ]
  },
  {
   "cell_type": "code",
   "execution_count": 16,
   "metadata": {},
   "outputs": [],
   "source": [
    "h_pool2_flat = tf.reshape(h_pool2,[-1, 7*7*num_filters2])\n",
    "\n",
    "num_units1 = 7*7*num_filters2\n",
    "num_units2 = 1024\n",
    "\n",
    "w2 = tf.Variable(tf.truncated_normal([num_units1, num_units2]))\n",
    "b2 = tf.Variable(tf.constant(0.1, shape=[num_units2]))\n",
    "hidden2 = tf.nn.relu(tf.matmul(h_pool2_flat, w2) +b2)\n",
    "\n",
    "keep_prob = tf.placeholder(tf.float32)\n",
    "hidden2_drop = tf.nn.dropout(hidden2, keep_prob)\n",
    "\n",
    "w0 = tf.Variable(tf.zeros([num_units2, 10]))\n",
    "b0 = tf.Variable(tf.zeros([10]))\n",
    "p = tf.nn.softmax(tf.matmul(hidden2_drop, w0) +b0)"
   ]
  },
  {
   "cell_type": "code",
   "execution_count": 17,
   "metadata": {},
   "outputs": [],
   "source": [
    "t = tf.placeholder(tf.float32, [None, 10])\n",
    "loss = - tf.reduce_sum(t * tf.log(p))\n",
    "train_step = tf.train.AdamOptimizer(0.0001).minimize(loss)\n",
    "correct_prediction = tf.equal(tf.argmax(p, 1), tf.argmax(t, 1))\n",
    "accuracy = tf.reduce_mean(tf.cast(correct_prediction, tf.float32))"
   ]
  },
  {
   "cell_type": "code",
   "execution_count": 23,
   "metadata": {},
   "outputs": [],
   "source": [
    "sess = tf.InteractiveSession()\n",
    "sess.run(tf.global_variables_initializer())\n",
    "saver = tf.train.Saver()"
   ]
  },
  {
   "cell_type": "code",
   "execution_count": 24,
   "metadata": {},
   "outputs": [
    {
     "name": "stdout",
     "output_type": "stream",
     "text": [
      "Step: 500, Loss: 1520.468750, Accuracy: 0.956600\n",
      "Step: 1000, Loss: 979.224854, Accuracy: 0.970500\n",
      "Step: 1500, Loss: 836.932495, Accuracy: 0.973600\n",
      "Step: 2000, Loss: 789.516785, Accuracy: 0.974700\n",
      "Step: 2500, Loss: 638.948486, Accuracy: 0.978900\n",
      "Step: 3000, Loss: 606.777100, Accuracy: 0.980500\n",
      "Step: 3500, Loss: 518.737122, Accuracy: 0.983400\n",
      "Step: 4000, Loss: 490.705444, Accuracy: 0.984200\n",
      "Step: 4500, Loss: 494.284424, Accuracy: 0.983900\n",
      "Step: 5000, Loss: 456.046875, Accuracy: 0.985400\n",
      "Step: 5500, Loss: 486.541199, Accuracy: 0.983800\n",
      "Step: 6000, Loss: 439.557343, Accuracy: 0.986100\n",
      "Step: 6500, Loss: 371.484711, Accuracy: 0.987300\n",
      "Step: 7000, Loss: 387.833984, Accuracy: 0.987500\n",
      "Step: 7500, Loss: 405.364441, Accuracy: 0.987300\n",
      "Step: 8000, Loss: 383.982361, Accuracy: 0.987700\n",
      "Step: 8500, Loss: 371.218140, Accuracy: 0.988700\n",
      "Step: 9000, Loss: 384.306549, Accuracy: 0.988500\n",
      "Step: 9500, Loss: 369.266724, Accuracy: 0.986800\n",
      "Step: 10000, Loss: 365.411682, Accuracy: 0.987700\n",
      "Step: 10500, Loss: 340.968658, Accuracy: 0.989500\n",
      "Step: 11000, Loss: 373.946808, Accuracy: 0.988500\n",
      "Step: 11500, Loss: 355.767517, Accuracy: 0.988500\n",
      "Step: 12000, Loss: 318.441071, Accuracy: 0.989900\n",
      "Step: 12500, Loss: 343.865540, Accuracy: 0.989500\n",
      "Step: 13000, Loss: 319.200897, Accuracy: 0.990300\n",
      "Step: 13500, Loss: 343.287933, Accuracy: 0.989400\n",
      "Step: 14000, Loss: 313.048920, Accuracy: 0.989500\n",
      "Step: 14500, Loss: 314.030914, Accuracy: 0.989900\n",
      "Step: 15000, Loss: 292.666656, Accuracy: 0.992000\n",
      "Step: 15500, Loss: 325.423218, Accuracy: 0.990500\n",
      "Step: 16000, Loss: 297.361938, Accuracy: 0.990600\n",
      "Step: 16500, Loss: 301.204468, Accuracy: 0.991000\n",
      "Step: 17000, Loss: 256.354065, Accuracy: 0.992100\n",
      "Step: 17500, Loss: 295.262329, Accuracy: 0.990800\n",
      "Step: 18000, Loss: 293.618256, Accuracy: 0.992000\n",
      "Step: 18500, Loss: 277.363190, Accuracy: 0.991600\n",
      "Step: 19000, Loss: nan, Accuracy: 0.098000\n",
      "Step: 19500, Loss: nan, Accuracy: 0.098000\n",
      "Step: 20000, Loss: nan, Accuracy: 0.098000\n"
     ]
    }
   ],
   "source": [
    "i = 0\n",
    "for _ in range(20000):\n",
    "    i += 1\n",
    "    batch_xs, batch_ts = mnist.train.next_batch(50)\n",
    "    sess.run(train_step, feed_dict={x:batch_xs, t:batch_ts, keep_prob:0.5})\n",
    "    if i % 500 == 0:\n",
    "        loss_vals, acc_vals = [], []\n",
    "        for c in range(5):\n",
    "            start = len(mnist.test.labels) // 5 *c\n",
    "            end = len(mnist.test.labels) // 5 * (c+1)\n",
    "            loss_val, acc_val = sess.run([loss, accuracy], feed_dict={x:mnist.test.images[start:end], t:mnist.test.labels[start:end], keep_prob:1.0})\n",
    "            \n",
    "            loss_vals.append(loss_val)\n",
    "            acc_vals.append(acc_val)\n",
    "        loss_val = np.sum(loss_vals)\n",
    "        acc_val = np.mean(acc_vals)\n",
    "        print('Step: %d, Loss: %f, Accuracy: %f' % (i, loss_val, acc_val))\n",
    "        saver.save(sess, './cnn_session', global_step=i)"
   ]
  },
  {
   "cell_type": "code",
   "execution_count": 1,
   "metadata": {},
   "outputs": [
    {
     "name": "stdout",
     "output_type": "stream",
     "text": [
      "cnn_session-100.data-00000-of-00001   cnn_session-19000.meta\r\n",
      "cnn_session-100.index                 cnn_session-19500.data-00000-of-00001\r\n",
      "cnn_session-100.meta                  cnn_session-19500.index\r\n",
      "cnn_session-150.data-00000-of-00001   cnn_session-19500.meta\r\n",
      "cnn_session-150.index                 cnn_session-200.data-00000-of-00001\r\n",
      "cnn_session-150.meta                  cnn_session-200.index\r\n",
      "cnn_session-18000.data-00000-of-00001 cnn_session-200.meta\r\n",
      "cnn_session-18000.index               cnn_session-20000.data-00000-of-00001\r\n",
      "cnn_session-18000.meta                cnn_session-20000.index\r\n",
      "cnn_session-18500.data-00000-of-00001 cnn_session-20000.meta\r\n",
      "cnn_session-18500.index               cnn_session-50.data-00000-of-00001\r\n",
      "cnn_session-18500.meta                cnn_session-50.index\r\n",
      "cnn_session-19000.data-00000-of-00001 cnn_session-50.meta\r\n",
      "cnn_session-19000.index\r\n"
     ]
    }
   ],
   "source": [
    "! ls cnn_session*"
   ]
  },
  {
   "cell_type": "code",
   "execution_count": null,
   "metadata": {},
   "outputs": [],
   "source": []
  }
 ],
 "metadata": {
  "kernelspec": {
   "display_name": "Python 3",
   "language": "python",
   "name": "python3"
  },
  "language_info": {
   "codemirror_mode": {
    "name": "ipython",
    "version": 3
   },
   "file_extension": ".py",
   "mimetype": "text/x-python",
   "name": "python",
   "nbconvert_exporter": "python",
   "pygments_lexer": "ipython3",
   "version": "3.6.5"
  }
 },
 "nbformat": 4,
 "nbformat_minor": 2
}
