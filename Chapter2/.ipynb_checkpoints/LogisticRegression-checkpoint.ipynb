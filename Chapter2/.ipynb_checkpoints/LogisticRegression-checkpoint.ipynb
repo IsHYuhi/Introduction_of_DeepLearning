{
 "cells": [
  {
   "cell_type": "markdown",
   "metadata": {},
   "source": [
    "# ロジスティック回帰による二項分類器"
   ]
  },
  {
   "cell_type": "markdown",
   "metadata": {},
   "source": [
    "トレーニングセットのデータをpandasのデータフレームとして格納する。  \n",
    "pandosのデータフレームとはスプレッドシート形式の２次元データセットのことである。"
   ]
  },
  {
   "cell_type": "code",
   "execution_count": 18,
   "metadata": {},
   "outputs": [],
   "source": [
    "import tensorflow as tf\n",
    "import numpy as np\n",
    "import matplotlib.pyplot as plt\n",
    "from numpy.random import multivariate_normal, permutation\n",
    "import pandas as pd\n",
    "from pandas import DataFrame, Series #DataFrameが二次元でSeriesが一次元"
   ]
  },
  {
   "cell_type": "code",
   "execution_count": 19,
   "metadata": {},
   "outputs": [],
   "source": [
    "np.random.seed(42)\n",
    "\n",
    "n0, mu0, variance0 = 20, [10, 11], 10\n",
    "data0 = multivariate_normal(mu0, np.eye(2)*variance0 , n0) #平均mu(10, 11)T ,分散共分散行列[[10,0],[0,10]], 個数　#np.eye()は2次元の単位行列を生成している\n",
    "df0 = DataFrame(data0, columns=['x1','x2']) #data0にx1,x2というindexの名前をつけるイメージ\n",
    "df0['t'] = 0 # t=0　つまり非感染のラベル\n",
    "\n",
    "n1, mu1, variance1 = 15, [18, 20], 22\n",
    "data1 = multivariate_normal(mu1, np.eye(2)*variance1, n1) #平均mu(18, 20)T ,分散共分散行列[[22,0],[0,22]] , 個数 #np.eye()は2次元の単位行列を生成している\n",
    "df1 = DataFrame(data1, columns=['x1', 'x2'])\n",
    "df1['t'] = 1 # t=1　つまり感染のラベル\n",
    "\n",
    "df = pd.concat([df0, df1], ignore_index=True)#データの中身をある方向にそのままつなげるpd.concat　列方向に連結\n",
    "train_set = df.reindex(permutation(df.index)).reset_index(drop=True)#より本物のデータらしくするために行の順番を入れ替えている"
   ]
  },
  {
   "cell_type": "code",
   "execution_count": 20,
   "metadata": {},
   "outputs": [
    {
     "data": {
      "text/html": [
       "<div>\n",
       "<style scoped>\n",
       "    .dataframe tbody tr th:only-of-type {\n",
       "        vertical-align: middle;\n",
       "    }\n",
       "\n",
       "    .dataframe tbody tr th {\n",
       "        vertical-align: top;\n",
       "    }\n",
       "\n",
       "    .dataframe thead th {\n",
       "        text-align: right;\n",
       "    }\n",
       "</style>\n",
       "<table border=\"1\" class=\"dataframe\">\n",
       "  <thead>\n",
       "    <tr style=\"text-align: right;\">\n",
       "      <th></th>\n",
       "      <th>x1</th>\n",
       "      <th>x2</th>\n",
       "      <th>t</th>\n",
       "    </tr>\n",
       "  </thead>\n",
       "  <tbody>\n",
       "    <tr>\n",
       "      <th>0</th>\n",
       "      <td>4.545331</td>\n",
       "      <td>9.221891</td>\n",
       "      <td>0</td>\n",
       "    </tr>\n",
       "    <tr>\n",
       "      <th>1</th>\n",
       "      <td>15.839413</td>\n",
       "      <td>24.958343</td>\n",
       "      <td>1</td>\n",
       "    </tr>\n",
       "    <tr>\n",
       "      <th>2</th>\n",
       "      <td>19.696223</td>\n",
       "      <td>16.974120</td>\n",
       "      <td>1</td>\n",
       "    </tr>\n",
       "    <tr>\n",
       "      <th>3</th>\n",
       "      <td>22.835816</td>\n",
       "      <td>24.368091</td>\n",
       "      <td>1</td>\n",
       "    </tr>\n",
       "    <tr>\n",
       "      <th>4</th>\n",
       "      <td>12.601115</td>\n",
       "      <td>7.139353</td>\n",
       "      <td>0</td>\n",
       "    </tr>\n",
       "    <tr>\n",
       "      <th>5</th>\n",
       "      <td>19.553763</td>\n",
       "      <td>24.575712</td>\n",
       "      <td>1</td>\n",
       "    </tr>\n",
       "    <tr>\n",
       "      <th>6</th>\n",
       "      <td>12.048171</td>\n",
       "      <td>15.816243</td>\n",
       "      <td>0</td>\n",
       "    </tr>\n",
       "    <tr>\n",
       "      <th>7</th>\n",
       "      <td>10.213543</td>\n",
       "      <td>6.494551</td>\n",
       "      <td>0</td>\n",
       "    </tr>\n",
       "    <tr>\n",
       "      <th>8</th>\n",
       "      <td>8.534545</td>\n",
       "      <td>9.527233</td>\n",
       "      <td>0</td>\n",
       "    </tr>\n",
       "    <tr>\n",
       "      <th>9</th>\n",
       "      <td>9.259542</td>\n",
       "      <td>10.259594</td>\n",
       "      <td>0</td>\n",
       "    </tr>\n",
       "    <tr>\n",
       "      <th>10</th>\n",
       "      <td>5.799907</td>\n",
       "      <td>11.622530</td>\n",
       "      <td>0</td>\n",
       "    </tr>\n",
       "    <tr>\n",
       "      <th>11</th>\n",
       "      <td>17.457561</td>\n",
       "      <td>18.587698</td>\n",
       "      <td>1</td>\n",
       "    </tr>\n",
       "    <tr>\n",
       "      <th>12</th>\n",
       "      <td>8.097237</td>\n",
       "      <td>16.857418</td>\n",
       "      <td>0</td>\n",
       "    </tr>\n",
       "    <tr>\n",
       "      <th>13</th>\n",
       "      <td>14.634788</td>\n",
       "      <td>10.286033</td>\n",
       "      <td>0</td>\n",
       "    </tr>\n",
       "    <tr>\n",
       "      <th>14</th>\n",
       "      <td>19.611713</td>\n",
       "      <td>11.730609</td>\n",
       "      <td>1</td>\n",
       "    </tr>\n",
       "    <tr>\n",
       "      <th>15</th>\n",
       "      <td>12.810829</td>\n",
       "      <td>14.389294</td>\n",
       "      <td>1</td>\n",
       "    </tr>\n",
       "    <tr>\n",
       "      <th>16</th>\n",
       "      <td>21.463715</td>\n",
       "      <td>20.803788</td>\n",
       "      <td>1</td>\n",
       "    </tr>\n",
       "    <tr>\n",
       "      <th>17</th>\n",
       "      <td>17.662243</td>\n",
       "      <td>24.706987</td>\n",
       "      <td>1</td>\n",
       "    </tr>\n",
       "    <tr>\n",
       "      <th>18</th>\n",
       "      <td>14.993909</td>\n",
       "      <td>13.426842</td>\n",
       "      <td>0</td>\n",
       "    </tr>\n",
       "    <tr>\n",
       "      <th>19</th>\n",
       "      <td>9.957318</td>\n",
       "      <td>7.655224</td>\n",
       "      <td>0</td>\n",
       "    </tr>\n",
       "    <tr>\n",
       "      <th>20</th>\n",
       "      <td>14.063721</td>\n",
       "      <td>18.549665</td>\n",
       "      <td>1</td>\n",
       "    </tr>\n",
       "    <tr>\n",
       "      <th>21</th>\n",
       "      <td>10.660485</td>\n",
       "      <td>4.802979</td>\n",
       "      <td>0</td>\n",
       "    </tr>\n",
       "    <tr>\n",
       "      <th>22</th>\n",
       "      <td>8.278511</td>\n",
       "      <td>11.350768</td>\n",
       "      <td>0</td>\n",
       "    </tr>\n",
       "    <tr>\n",
       "      <th>23</th>\n",
       "      <td>7.128576</td>\n",
       "      <td>6.533904</td>\n",
       "      <td>0</td>\n",
       "    </tr>\n",
       "    <tr>\n",
       "      <th>24</th>\n",
       "      <td>21.811084</td>\n",
       "      <td>26.361330</td>\n",
       "      <td>1</td>\n",
       "    </tr>\n",
       "    <tr>\n",
       "      <th>25</th>\n",
       "      <td>8.100614</td>\n",
       "      <td>10.077583</td>\n",
       "      <td>0</td>\n",
       "    </tr>\n",
       "    <tr>\n",
       "      <th>26</th>\n",
       "      <td>6.797147</td>\n",
       "      <td>11.993737</td>\n",
       "      <td>0</td>\n",
       "    </tr>\n",
       "    <tr>\n",
       "      <th>27</th>\n",
       "      <td>14.824954</td>\n",
       "      <td>22.869016</td>\n",
       "      <td>1</td>\n",
       "    </tr>\n",
       "    <tr>\n",
       "      <th>28</th>\n",
       "      <td>10.765152</td>\n",
       "      <td>4.949677</td>\n",
       "      <td>0</td>\n",
       "    </tr>\n",
       "    <tr>\n",
       "      <th>29</th>\n",
       "      <td>6.360239</td>\n",
       "      <td>12.188061</td>\n",
       "      <td>0</td>\n",
       "    </tr>\n",
       "    <tr>\n",
       "      <th>30</th>\n",
       "      <td>15.752474</td>\n",
       "      <td>19.129182</td>\n",
       "      <td>1</td>\n",
       "    </tr>\n",
       "    <tr>\n",
       "      <th>31</th>\n",
       "      <td>11.065117</td>\n",
       "      <td>16.623631</td>\n",
       "      <td>1</td>\n",
       "    </tr>\n",
       "    <tr>\n",
       "      <th>32</th>\n",
       "      <td>19.520089</td>\n",
       "      <td>18.193804</td>\n",
       "      <td>1</td>\n",
       "    </tr>\n",
       "    <tr>\n",
       "      <th>33</th>\n",
       "      <td>8.515392</td>\n",
       "      <td>12.715726</td>\n",
       "      <td>0</td>\n",
       "    </tr>\n",
       "    <tr>\n",
       "      <th>34</th>\n",
       "      <td>11.570748</td>\n",
       "      <td>10.562770</td>\n",
       "      <td>0</td>\n",
       "    </tr>\n",
       "  </tbody>\n",
       "</table>\n",
       "</div>"
      ],
      "text/plain": [
       "           x1         x2  t\n",
       "0    4.545331   9.221891  0\n",
       "1   15.839413  24.958343  1\n",
       "2   19.696223  16.974120  1\n",
       "3   22.835816  24.368091  1\n",
       "4   12.601115   7.139353  0\n",
       "5   19.553763  24.575712  1\n",
       "6   12.048171  15.816243  0\n",
       "7   10.213543   6.494551  0\n",
       "8    8.534545   9.527233  0\n",
       "9    9.259542  10.259594  0\n",
       "10   5.799907  11.622530  0\n",
       "11  17.457561  18.587698  1\n",
       "12   8.097237  16.857418  0\n",
       "13  14.634788  10.286033  0\n",
       "14  19.611713  11.730609  1\n",
       "15  12.810829  14.389294  1\n",
       "16  21.463715  20.803788  1\n",
       "17  17.662243  24.706987  1\n",
       "18  14.993909  13.426842  0\n",
       "19   9.957318   7.655224  0\n",
       "20  14.063721  18.549665  1\n",
       "21  10.660485   4.802979  0\n",
       "22   8.278511  11.350768  0\n",
       "23   7.128576   6.533904  0\n",
       "24  21.811084  26.361330  1\n",
       "25   8.100614  10.077583  0\n",
       "26   6.797147  11.993737  0\n",
       "27  14.824954  22.869016  1\n",
       "28  10.765152   4.949677  0\n",
       "29   6.360239  12.188061  0\n",
       "30  15.752474  19.129182  1\n",
       "31  11.065117  16.623631  1\n",
       "32  19.520089  18.193804  1\n",
       "33   8.515392  12.715726  0\n",
       "34  11.570748  10.562770  0"
      ]
     },
     "execution_count": 20,
     "metadata": {},
     "output_type": "execute_result"
    }
   ],
   "source": [
    "train_set"
   ]
  },
  {
   "cell_type": "code",
   "execution_count": 21,
   "metadata": {},
   "outputs": [
    {
     "data": {
      "image/png": "[encoded data removed]",
      "text/plain": [
       "<Figure size 432x288 with 1 Axes>"
      ]
     },
     "metadata": {},
     "output_type": "display_data"
    }
   ],
   "source": [
    "fig = plt.figure()\n",
    "subplot = fig.add_subplot(1,1,1)\n",
    "subplot.scatter(df0['x1'], df0['x2'], color='r',marker='o')\n",
    "subplot.scatter(df1['x1'], df1['x2'], color='b',marker='x')\n",
    "plt.show()"
   ]
  },
  {
   "cell_type": "code",
   "execution_count": 22,
   "metadata": {},
   "outputs": [],
   "source": [
    "train_x = train_set[['x1','x2']].values #.as_matrix()　は非推奨で .valuesに置き換える\n",
    "train_t = train_set['t'].values.reshape([len(train_set), 1])"
   ]
  },
  {
   "cell_type": "code",
   "execution_count": 23,
   "metadata": {},
   "outputs": [],
   "source": [
    "x = tf.placeholder(tf.float32, [None, 2])\n",
    "w = tf.Variable(tf.zeros([2, 1]))\n",
    "w0 = tf.Variable(tf.zeros([1]))\n",
    "f = tf.matmul(x, w) + w0\n",
    "p = tf.sigmoid(f)"
   ]
  },
  {
   "cell_type": "code",
   "execution_count": 24,
   "metadata": {},
   "outputs": [],
   "source": [
    "t = tf.placeholder(tf.float32, [None, 1])\n",
    "loss = -tf.reduce_sum(t*tf.log(p) + (1-t)*tf.log(1-p))\n",
    "train_step = tf.train.AdamOptimizer().minimize(loss)"
   ]
  },
  {
   "cell_type": "code",
   "execution_count": 25,
   "metadata": {},
   "outputs": [],
   "source": [
    "correct_prediction = tf.equal(tf.sign(p-0.5), tf.sign(t-0.5))#y = sign(x) = -1 if x < 0;     0 if x == 0;      1 if x > 0. False,Trueを返す\n",
    "accuracy = tf.reduce_mean(tf.cast(correct_prediction, tf.float32)) #tf.cast( 変換したいもの , 変換後の型 ) castでFalseを0,Trueを1に変換するので正答率と一致する"
   ]
  },
  {
   "cell_type": "code",
   "execution_count": 26,
   "metadata": {},
   "outputs": [],
   "source": [
    "sess = tf.Session()\n",
    "sess.run(tf.initialize_all_variables()) #tf.initialize_all_variables()をglobalの方に置き換える"
   ]
  },
  {
   "cell_type": "code",
   "execution_count": 27,
   "metadata": {},
   "outputs": [
    {
     "name": "stdout",
     "output_type": "stream",
     "text": [
      "Step: 2000, Loss: 15.709656, Accuracy: 0.914286\n",
      "Step: 4000, Loss: 11.240766, Accuracy: 0.914286\n",
      "Step: 6000, Loss: 8.553828, Accuracy: 0.914286\n",
      "Step: 8000, Loss: 6.868614, Accuracy: 0.885714\n",
      "Step: 10000, Loss: 5.782053, Accuracy: 0.914286\n",
      "Step: 12000, Loss: 5.066100, Accuracy: 0.914286\n",
      "Step: 14000, Loss: 4.584938, Accuracy: 0.914286\n",
      "Step: 16000, Loss: 4.255560, Accuracy: 0.885714\n",
      "Step: 18000, Loss: 4.026278, Accuracy: 0.914286\n",
      "Step: 20000, Loss: 3.864371, Accuracy: 0.914286\n"
     ]
    }
   ],
   "source": [
    "i = 0\n",
    "for _  in range(20000):\n",
    "    i += 1\n",
    "    sess.run(train_step, feed_dict={x:train_x, t:train_t})\n",
    "    if i % 2000 == 0:\n",
    "        loss_val, acc_val = sess.run([loss, accuracy], feed_dict={x:train_x, t:train_t})\n",
    "        print('Step: %d, Loss: %f, Accuracy: %f' % (i, loss_val, acc_val))"
   ]
  },
  {
   "cell_type": "code",
   "execution_count": 28,
   "metadata": {},
   "outputs": [
    {
     "name": "stdout",
     "output_type": "stream",
     "text": [
      "-15.797095 0.5150971 0.60947156\n"
     ]
    }
   ],
   "source": [
    "w0_val, w_val = sess.run([w0, w])\n",
    "w0_val, w1_val, w2_val = w0_val[0], w_val[0][0], w_val[1][0]\n",
    "print(w0_val, w1_val, w2_val)"
   ]
  },
  {
   "cell_type": "markdown",
   "metadata": {},
   "source": [
    "# 結果をグラフに表示する　"
   ]
  },
  {
   "cell_type": "code",
   "execution_count": 29,
   "metadata": {
    "scrolled": true
   },
   "outputs": [
    {
     "data": {
      "image/png": "[encoded data removed]",
      "text/plain": [
       "<Figure size 432x432 with 1 Axes>"
      ]
     },
     "metadata": {},
     "output_type": "display_data"
    }
   ],
   "source": [
    "train_set0 = train_set[train_set['t'] == 0]\n",
    "train_set1 = train_set[train_set['t'] == 1]\n",
    "\n",
    "fig = plt.figure(figsize=(6,6))\n",
    "subplot = fig.add_subplot(1,1,1)\n",
    "subplot.set_ylim([0,30])\n",
    "subplot.set_xlim([0,30])\n",
    "subplot.scatter(train_set1.x1, train_set1.x2, color='r', marker='x')\n",
    "subplot.scatter(train_set0.x1, train_set0.x2, color='b', marker='o')\n",
    "\n",
    "linex = np.linspace(0,30,10)\n",
    "liney = - (w1_val*linex/w2_val + w0_val/w2_val) #w2*y + w1*x + w0 = 0を　w2= -w1*x/w2 - w0/w2の形でプロット\n",
    "subplot.plot(linex, liney)\n",
    "\n",
    "field = [[(1/(1+np.exp(-(w0_val + w1_val*x1 + w2_val*x2)))) for x1 in np.linspace(0, 30, 100)] for x2 in np.linspace(0, 30, 100)]\n",
    "subplot.imshow(field, origin = 'lower', extent = (0, 30, 0, 30), cmap = plt.cm.gray_r, alpha=0.5)\n",
    "plt.show()"
   ]
  },
  {
   "cell_type": "code",
   "execution_count": 111,
   "metadata": {},
   "outputs": [],
   "source": [
    "sess.close()"
   ]
  },
  {
   "cell_type": "markdown",
   "metadata": {},
   "source": [
    "# テストセットを用いた検証"
   ]
  },
  {
   "cell_type": "code",
   "execution_count": 112,
   "metadata": {},
   "outputs": [],
   "source": [
    "np.random.seed(42)\n",
    "\n",
    "n0, mu0, variance0 = 800, [10, 11], 20\n",
    "data0 = multivariate_normal(mu0, np.eye(2)*variance0 , n0) \n",
    "df0 = DataFrame(data0, columns=['x1','x2']) \n",
    "df0['t'] = 0 # t=0　つまり非感染のラベル\n",
    "\n",
    "n1, mu1, variance1 = 600, [18, 20], 22\n",
    "data1 = multivariate_normal(mu1, np.eye(2)*variance1, n1) \n",
    "df1 = DataFrame(data1, columns=['x1', 'x2'])\n",
    "df1['t'] = 1 # t=1　つまり感染のラベル\n",
    "\n",
    "df = pd.concat([df0, df1], ignore_index=True)#データの中身をある方向にそのままつなげるpd.concat　列方向に連結\n",
    "df = df.reindex(permutation(df.index)).reset_index(drop=True)#より本物のデータらしくするために行の順番を入れ替えている\n",
    "\n",
    "num_data = int(len(df)*0.8)\n",
    "train_set = df[:num_data] #80%が訓練データ\n",
    "test_set = df[num_data:] #20%がテストデータ"
   ]
  },
  {
   "cell_type": "code",
   "execution_count": 113,
   "metadata": {},
   "outputs": [],
   "source": [
    "train_x = train_set[['x1','x2']].values\n",
    "train_t = train_set['t'].values.reshape([len(train_set), 1])\n",
    "test_x = test_set[['x1','x2']].values\n",
    "test_t = test_set['t'].values.reshape([len(test_set), 1])"
   ]
  },
  {
   "cell_type": "markdown",
   "metadata": {},
   "source": [
    "### 共通部分"
   ]
  },
  {
   "cell_type": "code",
   "execution_count": 114,
   "metadata": {},
   "outputs": [],
   "source": [
    "x = tf.placeholder(tf.float32, [None, 2])\n",
    "w = tf.Variable(tf.zeros([2, 1]))\n",
    "w0 = tf.Variable(tf.zeros([1]))\n",
    "f = tf.matmul(x, w) + w0\n",
    "p = tf.sigmoid(f)\n",
    "\n",
    "t = tf.placeholder(tf.float32, [None, 1])\n",
    "loss = -tf.reduce_sum(t*tf.log(p) + (1-t)*tf.log(1-p))\n",
    "train_step = tf.train.AdamOptimizer().minimize(loss)\n",
    "\n",
    "correct_prediction = tf.equal(tf.sign(p-0.5), tf.sign(t-0.5))\n",
    "accuracy = tf.reduce_mean(tf.cast(correct_prediction, tf.float32))\n",
    "\n",
    "sess = tf.Session()\n",
    "sess.run(tf.global_variables_initializer()) #tf.initialize_all_variables()は置き換える"
   ]
  },
  {
   "cell_type": "code",
   "execution_count": 115,
   "metadata": {},
   "outputs": [],
   "source": [
    "train_accuracy = []\n",
    "test_accuracy = []\n",
    "\n",
    "for _  in range(2500):\n",
    "    sess.run(train_step, feed_dict={x:train_x, t:train_t})\n",
    "    acc_val = sess.run(accuracy, feed_dict = {x:train_x, t:train_t})\n",
    "    train_accuracy.append(acc_val)\n",
    "    acc_val = sess.run(accuracy, feed_dict = {x:test_x, t:test_t})\n",
    "    test_accuracy.append(acc_val)"
   ]
  },
  {
   "cell_type": "code",
   "execution_count": 116,
   "metadata": {},
   "outputs": [
    {
     "data": {
      "image/png": "[encoded data removed]",
      "text/plain": [
       "<Figure size 576x432 with 1 Axes>"
      ]
     },
     "metadata": {},
     "output_type": "display_data"
    }
   ],
   "source": [
    "fig = plt.figure(figsize=(8, 6))\n",
    "subplot = fig.add_subplot(1,1,1)\n",
    "subplot.plot(range(len(train_accuracy)), train_accuracy, linewidth = 2, label = 'Training set')\n",
    "subplot.plot(range(len(test_accuracy)), test_accuracy, linewidth = 2, label = 'Test set')\n",
    "subplot.legend(loc = 'upper left')\n",
    "plt.show()"
   ]
  }
 ],
 "metadata": {
  "kernelspec": {
   "display_name": "Python 3",
   "language": "python",
   "name": "python3"
  },
  "language_info": {
   "codemirror_mode": {
    "name": "ipython",
    "version": 3
   },
   "file_extension": ".py",
   "mimetype": "text/x-python",
   "name": "python",
   "nbconvert_exporter": "python",
   "pygments_lexer": "ipython3",
   "version": "3.6.5"
  }
 },
 "nbformat": 4,
 "nbformat_minor": 2
}
