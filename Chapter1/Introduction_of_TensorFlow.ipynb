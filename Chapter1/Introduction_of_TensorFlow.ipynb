{
 "cells": [
  {
   "cell_type": "markdown",
   "metadata": {},
   "source": [
    "# 月の平均気温から気温を予測する"
   ]
  },
  {
   "cell_type": "code",
   "execution_count": 7,
   "metadata": {},
   "outputs": [],
   "source": [
    "import tensorflow as tf\n",
    "import numpy as np\n",
    "import matplotlib.pyplot as plt"
   ]
  },
  {
   "cell_type": "code",
   "execution_count": 8,
   "metadata": {},
   "outputs": [],
   "source": [
    "x = tf.placeholder(tf.float32, [None, 5])\n",
    "w = tf.Variable(tf.zeros([5,1]))\n",
    "\n",
    "y = tf.matmul(x, w)\n",
    "t = tf.placeholder(tf.float32, [None, 1])"
   ]
  },
  {
   "cell_type": "code",
   "execution_count": 9,
   "metadata": {},
   "outputs": [],
   "source": [
    "loss = tf.reduce_sum(tf.square(y-t))\n",
    "\n",
    "train_step = tf.train.AdamOptimizer().minimize(loss)"
   ]
  },
  {
   "cell_type": "code",
   "execution_count": 10,
   "metadata": {},
   "outputs": [],
   "source": [
    "sess = tf.Session()\n",
    "sess.run(tf.initialize_all_variables())"
   ]
  },
  {
   "cell_type": "code",
   "execution_count": 11,
   "metadata": {},
   "outputs": [],
   "source": [
    "train_t = np.array([5.2, 5.7, 8.6, 14.9, 18.2, 20.4, 25.5, 26.4, 22.8, 17.5, 11.1, 6.6])\n",
    "\n",
    "train_t = train_t.reshape([12, 1])\n",
    "\n",
    "train_x = np.zeros([12, 5])\n",
    "\n",
    "for row, month in enumerate(range(1, 13)):\n",
    "    for col, n in enumerate(range(0, 5)):\n",
    "        train_x[row][col] = month ** n"
   ]
  },
  {
   "cell_type": "code",
   "execution_count": 14,
   "metadata": {},
   "outputs": [
    {
     "name": "stdout",
     "output_type": "stream",
     "text": [
      "Step: 10000, Loss: 31.012833\n",
      "Step: 20000, Loss: 29.292377\n",
      "Step: 30000, Loss: 28.031116\n",
      "Step: 40000, Loss: 27.911423\n",
      "Step: 50000, Loss: 25.769745\n",
      "Step: 60000, Loss: 24.764515\n",
      "Step: 70000, Loss: 23.839672\n",
      "Step: 80000, Loss: 22.970881\n",
      "Step: 90000, Loss: 22.467999\n",
      "Step: 100000, Loss: 21.445120\n"
     ]
    }
   ],
   "source": [
    "i = 0\n",
    "for _  in range(100001):\n",
    "    i += 1\n",
    "    sess.run(train_step, feed_dict={x:train_x, t:train_t})\n",
    "    if i % 10000 ==0:\n",
    "        loss_val = sess.run(loss, feed_dict={x:train_x, t:train_t})\n",
    "        print('Step: %d, Loss: %f' % (i, loss_val))"
   ]
  },
  {
   "cell_type": "code",
   "execution_count": 15,
   "metadata": {},
   "outputs": [
    {
     "name": "stdout",
     "output_type": "stream",
     "text": [
      "Step: 110000, Loss: 21.571764\n",
      "Step: 120000, Loss: 22.586803\n",
      "Step: 130000, Loss: 19.621506\n",
      "Step: 140000, Loss: 18.982832\n",
      "Step: 150000, Loss: 18.482285\n",
      "Step: 160000, Loss: 18.028996\n",
      "Step: 170000, Loss: 25.478247\n",
      "Step: 180000, Loss: 17.177750\n",
      "Step: 190000, Loss: 16.806355\n",
      "Step: 200000, Loss: 16.513100\n"
     ]
    }
   ],
   "source": [
    "for _ in range(100000):\n",
    "    i += 1\n",
    "    sess.run(train_step, feed_dict={x:train_x, t:train_t})\n",
    "    if i % 10000 == 0:\n",
    "        loss_val = sess.run(loss, feed_dict={x:train_x, t:train_t})\n",
    "        print('Step: %d, Loss: %f' % (i, loss_val))"
   ]
  },
  {
   "cell_type": "code",
   "execution_count": 16,
   "metadata": {},
   "outputs": [
    {
     "name": "stdout",
     "output_type": "stream",
     "text": [
      "[[ 6.1063333]\n",
      " [-4.042157 ]\n",
      " [ 2.5105584]\n",
      " [-0.2816894]\n",
      " [ 0.0083525]]\n"
     ]
    }
   ],
   "source": [
    "w_val = sess.run(w)\n",
    "print(w_val)"
   ]
  },
  {
   "cell_type": "code",
   "execution_count": 18,
   "metadata": {},
   "outputs": [],
   "source": [
    "def predict(x):\n",
    "    result = 0.0\n",
    "    for n in range(0, 5):\n",
    "        result += w_val[n][0]* x**n\n",
    "    return result"
   ]
  },
  {
   "cell_type": "code",
   "execution_count": 23,
   "metadata": {},
   "outputs": [
    {
     "data": {
      "image/png": "[encoded data removed]",
      "text/plain": [
       "<Figure size 432x288 with 1 Axes>"
      ]
     },
     "metadata": {},
     "output_type": "display_data"
    }
   ],
   "source": [
    "fig = plt.figure()\n",
    "subplot = fig.add_subplot(1,1,1)\n",
    "subplot.set_xlim(1,12)\n",
    "subplot.scatter(range(1,13), train_t)#平均値のプロット\n",
    "linex = np.linspace(1,12,100)#arrayオブジェクトで返す\n",
    "liney = predict(linex)#arrayオブジェクトは単一のスカラーを代入すべき関数にarrayオブジェクトを代入するとそれぞれの値の関数値が再びarrayオブジェクトとして得ることができる。\n",
    "subplot.plot(linex, liney)\n",
    "plt.show()"
   ]
  },
  {
   "cell_type": "code",
   "execution_count": null,
   "metadata": {},
   "outputs": [],
   "source": []
  }
 ],
 "metadata": {
  "kernelspec": {
   "display_name": "Python 3",
   "language": "python",
   "name": "python3"
  },
  "language_info": {
   "codemirror_mode": {
    "name": "ipython",
    "version": 3
   },
   "file_extension": ".py",
   "mimetype": "text/x-python",
   "name": "python",
   "nbconvert_exporter": "python",
   "pygments_lexer": "ipython3",
   "version": "3.6.5"
  }
 },
 "nbformat": 4,
 "nbformat_minor": 2
}
