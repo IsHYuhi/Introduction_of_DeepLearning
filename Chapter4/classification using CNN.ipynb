{
 "cells": [
  {
   "cell_type": "markdown",
   "metadata": {},
   "source": [
    "# 畳み込みフィルターを用いた画像の分類"
   ]
  },
  {
   "cell_type": "code",
   "execution_count": 31,
   "metadata": {},
   "outputs": [],
   "source": [
    "import tensorflow as tf\n",
    "import numpy as np\n",
    "import matplotlib.pyplot as plt\n",
    "import _pickle as pickle\n",
    "\n",
    "np.random.seed(42)\n",
    "tf.set_random_seed(42)"
   ]
  },
  {
   "cell_type": "code",
   "execution_count": 32,
   "metadata": {},
   "outputs": [],
   "source": [
    "with open('ORENIST.data', 'rb') as file:\n",
    "    images, labels = pickle.load(file, encoding='latin1')"
   ]
  },
  {
   "cell_type": "code",
   "execution_count": 33,
   "metadata": {},
   "outputs": [],
   "source": [
    "def edge_filter():\n",
    "    filter0 = np.array(\n",
    "        [[ 2, 1, 0, -1, -2],\n",
    "         [ 3, 2, 0, -2, -3],\n",
    "         [ 4, 3, 0, -2, -4],\n",
    "         [ 3, 2, 0, -2, -3],\n",
    "         [ 2, 1, 0, -1, -2]]) / 23.0 #ブロードキャストルールで全体を/23.0\n",
    "    \n",
    "    filter1 = np.array(\n",
    "        [[ 2, 3, 4, 3, 2],\n",
    "         [ 1, 2, 3, 2, 1],\n",
    "         [ 0, 0, 0, 0, 0],\n",
    "         [-1,-2,0,-2,-1],\n",
    "         [-2,-3,-4,-3,-2]]) / 23.0\n",
    "    \n",
    "    filter_array = np.zeros([5, 5, 1, 2])#フィルターの情報を格納しておく多次元リスト 5x5x1x2(フィルターサイズx入力レイヤー数x出力レイヤー数)\n",
    "    filter_array[:,:,0,0] = filter0 #一番目の出力レイヤーのフィルターサイズの部分に格納\n",
    "    filter_array[:,:,0,1] = filter1 #2番目の...\n",
    "        \n",
    "    return tf.constant(filter_array, dtype=tf.float32) # 用意した多次元リストをTensorFlowの定数値オブジェクトに変換したものを返している。\n",
    "        "
   ]
  },
  {
   "cell_type": "code",
   "execution_count": 34,
   "metadata": {},
   "outputs": [],
   "source": [
    "x = tf.placeholder(tf.float32, [None, 784])\n",
    "x_image = tf.reshape(x, [-1, 28, 28, 1])\n",
    "\n",
    "W_conv = edge_filter()\n",
    "h_conv = tf.abs(tf.nn.conv2d(x_image, W_conv, strides = [1,1,1,1], padding='SAME'))\n",
    "\n",
    "h_conv_cutoff = tf.nn.relu(h_conv-0.2)\n",
    "\n",
    "h_pool = tf.nn.max_pool(h_conv_cutoff, ksize = [1,2,2,1], strides=[1,2,2,1], padding='SAME')"
   ]
  },
  {
   "cell_type": "code",
   "execution_count": 35,
   "metadata": {},
   "outputs": [],
   "source": [
    "h_pool_flat = tf.reshape(h_pool, [-1, 392]) #ベクトルに変換(一行の行列に変換)\n",
    "\n",
    "num_units1 = 392\n",
    "num_units2 = 2\n",
    "\n",
    "w2 = tf.Variable(tf.truncated_normal([num_units1, num_units2]))\n",
    "b2 = tf.Variable(tf.zeros([num_units2]))\n",
    "hidden2 = tf.nn.tanh(tf.matmul(h_pool_flat, w2) + b2)\n",
    "\n",
    "w0 = tf.Variable(tf.zeros([num_units2, 3]))\n",
    "b0 = tf.Variable(tf.zeros([3]))\n",
    "p = tf.nn.softmax(tf.matmul(hidden2, w0) +b0)"
   ]
  },
  {
   "cell_type": "code",
   "execution_count": 36,
   "metadata": {},
   "outputs": [],
   "source": [
    "t = tf.placeholder(tf.float32, [None, 3])\n",
    "loss = - tf.reduce_sum(t * tf.log(p))\n",
    "train_step = tf.train.AdamOptimizer().minimize(loss)\n",
    "correct_prediction = tf.equal(tf.argmax(p, 1), tf.argmax(t, 1)) #tf.argmaxは第二引数に1を入れると行方向の一番大きい数字のindexを返す\n",
    "accuracy = tf.reduce_mean(tf.cast(correct_prediction, tf.float32))# True or False を 1or0にキャスト"
   ]
  },
  {
   "cell_type": "code",
   "execution_count": 37,
   "metadata": {},
   "outputs": [],
   "source": [
    "sess = tf.InteractiveSession()\n",
    "sess.run(tf.global_variables_initializer())"
   ]
  },
  {
   "cell_type": "markdown",
   "metadata": {},
   "source": [
    "### Accuracyが伸びない時はKernelをReconnectする\n",
    "原因はわからないがAccuracyが0.66つまり2/3の時は画像が1種欠けている"
   ]
  },
  {
   "cell_type": "code",
   "execution_count": 38,
   "metadata": {},
   "outputs": [
    {
     "name": "stdout",
     "output_type": "stream",
     "text": [
      "Step: 10, Loss: 98.171188, Accuracy: 0.688889\n",
      "Step: 20, Loss: 97.330765, Accuracy: 0.700000\n",
      "Step: 30, Loss: 96.323135, Accuracy: 0.733333\n",
      "Step: 40, Loss: 95.083107, Accuracy: 0.766667\n",
      "Step: 50, Loss: 93.566849, Accuracy: 0.788889\n",
      "Step: 60, Loss: 91.898178, Accuracy: 0.844444\n",
      "Step: 70, Loss: 90.155716, Accuracy: 0.866667\n",
      "Step: 80, Loss: 88.293488, Accuracy: 0.877778\n",
      "Step: 90, Loss: 86.287170, Accuracy: 0.922222\n",
      "Step: 100, Loss: 84.114830, Accuracy: 0.933333\n",
      "Step: 110, Loss: 81.871559, Accuracy: 0.955556\n",
      "Step: 120, Loss: 79.708672, Accuracy: 0.966667\n",
      "Step: 130, Loss: 77.654785, Accuracy: 0.977778\n",
      "Step: 140, Loss: 75.711777, Accuracy: 0.977778\n",
      "Step: 150, Loss: 73.904289, Accuracy: 0.988889\n",
      "Step: 160, Loss: 72.237602, Accuracy: 1.000000\n",
      "Step: 170, Loss: 70.686607, Accuracy: 1.000000\n",
      "Step: 180, Loss: 69.227425, Accuracy: 1.000000\n",
      "Step: 190, Loss: 67.841629, Accuracy: 1.000000\n",
      "Step: 200, Loss: 66.517006, Accuracy: 1.000000\n"
     ]
    }
   ],
   "source": [
    "i = 0\n",
    "for _ in range(200):\n",
    "    i += 1\n",
    "    sess.run(train_step, feed_dict = {x:images, t:labels})\n",
    "    if i % 10 ==0:\n",
    "        loss_val, acc_val = sess.run([loss, accuracy], feed_dict = {x:images, t:labels})\n",
    "        print('Step: %d, Loss: %f, Accuracy: %f' % (i, loss_val, acc_val))"
   ]
  },
  {
   "cell_type": "markdown",
   "metadata": {},
   "source": [
    "z1,z2座標を見ると分類できていることがわかる。あとは平面上の分類と同じ作業"
   ]
  },
  {
   "cell_type": "code",
   "execution_count": 41,
   "metadata": {},
   "outputs": [
    {
     "data": {
      "image/png": "[encoded data removed]",
      "text/plain": [
       "<Figure size 360x360 with 1 Axes>"
      ]
     },
     "metadata": {},
     "output_type": "display_data"
    }
   ],
   "source": [
    "hidden2_vals = sess.run(hidden2, feed_dict={x:images})\n",
    "\n",
    "z1_vals = [[], [], []]\n",
    "z2_vals = [[], [], []]\n",
    "\n",
    "for hidden2_val, label in zip(hidden2_vals, labels):\n",
    "    label_num = np.argmax(label)\n",
    "    z1_vals[label_num].append(hidden2_val[0])\n",
    "    z2_vals[label_num].append(hidden2_val[1])\n",
    "    \n",
    "fig = plt.figure(figsize=(5,5))\n",
    "subplot = fig.add_subplot(1,1,1)\n",
    "subplot.scatter(z1_vals[0], z2_vals[0], s = 200, marker = '|')\n",
    "subplot.scatter(z1_vals[1], z2_vals[1], s = 200, marker = '_')\n",
    "subplot.scatter(z1_vals[2], z2_vals[2], s = 200, marker = '+')\n",
    "plt.show()"
   ]
  }
 ],
 "metadata": {
  "kernelspec": {
   "display_name": "Python 3",
   "language": "python",
   "name": "python3"
  },
  "language_info": {
   "codemirror_mode": {
    "name": "ipython",
    "version": 3
   },
   "file_extension": ".py",
   "mimetype": "text/x-python",
   "name": "python",
   "nbconvert_exporter": "python",
   "pygments_lexer": "ipython3",
   "version": "3.6.5"
  }
 },
 "nbformat": 4,
 "nbformat_minor": 2
}
