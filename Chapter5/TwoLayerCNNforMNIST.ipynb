{
 "cells": [
  {
   "cell_type": "markdown",
   "metadata": {},
   "source": [
    "# TensorFlowによる多層CNNの実装"
   ]
  },
  {
   "cell_type": "code",
   "execution_count": 2,
   "metadata": {},
   "outputs": [
    {
     "name": "stdout",
     "output_type": "stream",
     "text": [
      "WARNING:tensorflow:From /usr/local/lib/python3.6/site-packages/tensorflow/contrib/learn/python/learn/datasets/base.py:198: retry (from tensorflow.contrib.learn.python.learn.datasets.base) is deprecated and will be removed in a future version.\n",
      "Instructions for updating:\n",
      "Use the retry module or similar alternatives.\n"
     ]
    }
   ],
   "source": [
    "import tensorflow as tf\n",
    "import numpy as np\n",
    "import matplotlib.pyplot as plt\n",
    "from tensorflow.examples.tutorials.mnist import input_data\n",
    "\n",
    "np.random.seed(42)\n",
    "tf.set_random_seed(42)"
   ]
  },
  {
   "cell_type": "code",
   "execution_count": 3,
   "metadata": {},
   "outputs": [
    {
     "name": "stdout",
     "output_type": "stream",
     "text": [
      "WARNING:tensorflow:From <ipython-input-3-d651cc53d7d8>:1: read_data_sets (from tensorflow.contrib.learn.python.learn.datasets.mnist) is deprecated and will be removed in a future version.\n",
      "Instructions for updating:\n",
      "Please use alternatives such as official/mnist/dataset.py from tensorflow/models.\n",
      "WARNING:tensorflow:From /usr/local/lib/python3.6/site-packages/tensorflow/contrib/learn/python/learn/datasets/mnist.py:260: maybe_download (from tensorflow.contrib.learn.python.learn.datasets.base) is deprecated and will be removed in a future version.\n",
      "Instructions for updating:\n",
      "Please write your own downloading logic.\n",
      "WARNING:tensorflow:From /usr/local/lib/python3.6/site-packages/tensorflow/contrib/learn/python/learn/datasets/mnist.py:262: extract_images (from tensorflow.contrib.learn.python.learn.datasets.mnist) is deprecated and will be removed in a future version.\n",
      "Instructions for updating:\n",
      "Please use tf.data to implement this functionality.\n",
      "Extracting /tmp/data/train-images-idx3-ubyte.gz\n",
      "WARNING:tensorflow:From /usr/local/lib/python3.6/site-packages/tensorflow/contrib/learn/python/learn/datasets/mnist.py:267: extract_labels (from tensorflow.contrib.learn.python.learn.datasets.mnist) is deprecated and will be removed in a future version.\n",
      "Instructions for updating:\n",
      "Please use tf.data to implement this functionality.\n",
      "Extracting /tmp/data/train-labels-idx1-ubyte.gz\n",
      "WARNING:tensorflow:From /usr/local/lib/python3.6/site-packages/tensorflow/contrib/learn/python/learn/datasets/mnist.py:110: dense_to_one_hot (from tensorflow.contrib.learn.python.learn.datasets.mnist) is deprecated and will be removed in a future version.\n",
      "Instructions for updating:\n",
      "Please use tf.one_hot on tensors.\n",
      "Extracting /tmp/data/t10k-images-idx3-ubyte.gz\n",
      "Extracting /tmp/data/t10k-labels-idx1-ubyte.gz\n",
      "WARNING:tensorflow:From /usr/local/lib/python3.6/site-packages/tensorflow/contrib/learn/python/learn/datasets/mnist.py:290: DataSet.__init__ (from tensorflow.contrib.learn.python.learn.datasets.mnist) is deprecated and will be removed in a future version.\n",
      "Instructions for updating:\n",
      "Please use alternatives such as official/mnist/dataset.py from tensorflow/models.\n"
     ]
    }
   ],
   "source": [
    "mnist = input_data.read_data_sets(\"/tmp/data/\", one_hot=True)"
   ]
  },
  {
   "cell_type": "code",
   "execution_count": 4,
   "metadata": {},
   "outputs": [],
   "source": [
    "num_filters1 = 32\n",
    "\n",
    "x = tf.placeholder(tf.float32, [None, 784])\n",
    "x_image = tf.reshape(x, [-1, 28, 28, 1])\n",
    "\n",
    "W_conv1 = tf.Variable(tf.truncated_normal([5,5,1,num_filters1], stddev = 0.1))\n",
    "\n",
    "h_conv1 = tf.nn.conv2d(x_image, W_conv1, strides=[1,1,1,1], padding='SAME')\n",
    "\n",
    "b_conv1 = tf.Variable(tf.constant(0.1, shape=[num_filters1])) #ReLUでカットする閾値を決める 初期値は0.1\n",
    "h_conv1_cutoff = tf.nn.relu(h_conv1 + b_conv1)\n",
    "\n",
    "h_pool1 = tf.nn.max_pool(h_conv1_cutoff, ksize=[1,2,2,1], strides=[1,2,2,1], padding = 'SAME')"
   ]
  },
  {
   "cell_type": "code",
   "execution_count": 5,
   "metadata": {},
   "outputs": [],
   "source": [
    "num_filters2 = 64\n",
    "\n",
    "W_conv2 = tf.Variable(tf.truncated_normal([5,5,num_filters1, num_filters2], stddev=0.1))\n",
    "\n",
    "h_conv2 = tf.nn.conv2d(h_pool1, W_conv2, strides=[1,1,1,1], padding='SAME')\n",
    "\n",
    "b_conv2 = tf.Variable(tf.constant(0.1, shape=[num_filters2]))\n",
    "h_conv2_cutoff = tf.nn.relu(h_conv2 + b_conv2)\n",
    "\n",
    "h_pool2 = tf.nn.max_pool(h_conv2_cutoff, ksize=[1,2,2,1], strides=[1,2,2,1], padding='SAME')"
   ]
  },
  {
   "cell_type": "code",
   "execution_count": 6,
   "metadata": {},
   "outputs": [],
   "source": [
    "h_pool2_flat = tf.reshape(h_pool2,[-1, 7*7*num_filters2])\n",
    "\n",
    "num_units1 = 7*7*num_filters2\n",
    "num_units2 = 1024\n",
    "\n",
    "w2 = tf.Variable(tf.truncated_normal([num_units1, num_units2]))\n",
    "b2 = tf.Variable(tf.constant(0.1, shape=[num_units2]))\n",
    "hidden2 = tf.nn.relu(tf.matmul(h_pool2_flat, w2) +b2)\n",
    "\n",
    "keep_prob = tf.placeholder(tf.float32)\n",
    "hidden2_drop = tf.nn.dropout(hidden2, keep_prob)\n",
    "\n",
    "w0 = tf.Variable(tf.zeros([num_units2, 10]))\n",
    "b0 = tf.Variable(tf.zeros([10]))\n",
    "p = tf.nn.softmax(tf.matmul(hidden2_drop, w0) +b0)"
   ]
  },
  {
   "cell_type": "code",
   "execution_count": 7,
   "metadata": {},
   "outputs": [],
   "source": [
    "t = tf.placeholder(tf.float32, [None, 10])\n",
    "loss = - tf.reduce_sum(t * tf.log(p))\n",
    "train_step = tf.train.AdamOptimizer(0.0001).minimize(loss)\n",
    "correct_prediction = tf.equal(tf.argmax(p, 1), tf.argmax(t, 1))\n",
    "accuracy = tf.reduce_mean(tf.cast(correct_prediction, tf.float32))"
   ]
  },
  {
   "cell_type": "code",
   "execution_count": 8,
   "metadata": {},
   "outputs": [],
   "source": [
    "sess = tf.InteractiveSession()\n",
    "sess.run(tf.global_variables_initializer())\n",
    "saver = tf.train.Saver(var_list={\"b0\": b0, \"w0\": w0, \"b2\": b2, \"w2\": w2})"
   ]
  },
  {
   "cell_type": "code",
   "execution_count": 9,
   "metadata": {},
   "outputs": [
    {
     "name": "stdout",
     "output_type": "stream",
     "text": [
      "Step: 500, Loss: 1477.868408, Accuracy: 0.954900\n",
      "Step: 1000, Loss: 1003.672241, Accuracy: 0.971200\n",
      "Step: 1500, Loss: 736.695618, Accuracy: 0.977000\n",
      "Step: 2000, Loss: 633.848755, Accuracy: 0.979300\n",
      "Step: 2500, Loss: 624.459229, Accuracy: 0.978400\n",
      "Step: 3000, Loss: 538.565918, Accuracy: 0.982500\n",
      "Step: 3500, Loss: 522.744812, Accuracy: 0.983600\n",
      "Step: 4000, Loss: 452.990753, Accuracy: 0.984800\n",
      "Step: 4500, Loss: 475.163910, Accuracy: 0.984200\n",
      "Step: 5000, Loss: 468.982941, Accuracy: 0.984100\n",
      "Step: 5500, Loss: 415.640778, Accuracy: 0.986300\n",
      "Step: 6000, Loss: 407.362915, Accuracy: 0.986600\n",
      "Step: 6500, Loss: 374.767334, Accuracy: 0.987200\n",
      "Step: 7000, Loss: 445.587585, Accuracy: 0.985600\n",
      "Step: 7500, Loss: 346.484314, Accuracy: 0.988100\n",
      "Step: 8000, Loss: 339.608765, Accuracy: 0.988400\n",
      "Step: 8500, Loss: 363.998840, Accuracy: 0.987200\n",
      "Step: 9000, Loss: 354.237793, Accuracy: 0.988400\n",
      "Step: 9500, Loss: 312.068390, Accuracy: 0.989900\n",
      "Step: 10000, Loss: 296.044739, Accuracy: 0.991200\n",
      "Step: 10500, Loss: 320.252716, Accuracy: 0.990000\n",
      "Step: 11000, Loss: 303.392944, Accuracy: 0.990000\n",
      "Step: 11500, Loss: 319.576050, Accuracy: 0.990200\n",
      "Step: 12000, Loss: 301.707092, Accuracy: 0.991100\n",
      "Step: 12500, Loss: 300.251465, Accuracy: 0.990300\n",
      "Step: 13000, Loss: 342.359314, Accuracy: 0.989200\n",
      "Step: 13500, Loss: 320.427551, Accuracy: 0.989900\n",
      "Step: 14000, Loss: 319.344574, Accuracy: 0.989900\n",
      "Step: 14500, Loss: 286.516632, Accuracy: 0.990900\n",
      "Step: 15000, Loss: 300.531097, Accuracy: 0.989700\n",
      "Step: 15500, Loss: 299.271088, Accuracy: 0.989600\n",
      "Step: 16000, Loss: 277.108673, Accuracy: 0.991400\n",
      "Step: 16500, Loss: 293.973877, Accuracy: 0.990300\n",
      "Step: 17000, Loss: 288.955933, Accuracy: 0.991300\n",
      "Step: 17500, Loss: 296.284546, Accuracy: 0.991000\n",
      "Step: 18000, Loss: 290.112274, Accuracy: 0.990300\n",
      "Step: 18500, Loss: 316.634613, Accuracy: 0.989900\n",
      "Step: 19000, Loss: 288.385925, Accuracy: 0.990900\n",
      "Step: 19500, Loss: 305.951660, Accuracy: 0.990800\n",
      "Step: 20000, Loss: 278.053406, Accuracy: 0.991800\n"
     ]
    }
   ],
   "source": [
    "i = 0\n",
    "for _ in range(20000):\n",
    "    i += 1\n",
    "    batch_xs, batch_ts = mnist.train.next_batch(50)\n",
    "    sess.run(train_step, feed_dict={x:batch_xs, t:batch_ts, keep_prob:0.5})\n",
    "    if i % 500 == 0:\n",
    "        loss_vals, acc_vals = [], []\n",
    "        for c in range(5):\n",
    "            start = len(mnist.test.labels) // 5 *c\n",
    "            end = len(mnist.test.labels) // 5 * (c+1)\n",
    "            loss_val, acc_val = sess.run([loss, accuracy], feed_dict={x:mnist.test.images[start:end], t:mnist.test.labels[start:end], keep_prob:1.0})\n",
    "            \n",
    "            loss_vals.append(loss_val)\n",
    "            acc_vals.append(acc_val)\n",
    "        loss_val = np.sum(loss_vals)\n",
    "        acc_val = np.mean(acc_vals)\n",
    "        print('Step: %d, Loss: %f, Accuracy: %f' % (i, loss_val, acc_val))\n",
    "        saver.save(sess, './cnn_session', global_step=i)"
   ]
  },
  {
   "cell_type": "code",
   "execution_count": 1,
   "metadata": {},
   "outputs": [
    {
     "name": "stdout",
     "output_type": "stream",
     "text": [
      "cnn_session-100.data-00000-of-00001   cnn_session-19000.meta\r\n",
      "cnn_session-100.index                 cnn_session-19500.data-00000-of-00001\r\n",
      "cnn_session-100.meta                  cnn_session-19500.index\r\n",
      "cnn_session-150.data-00000-of-00001   cnn_session-19500.meta\r\n",
      "cnn_session-150.index                 cnn_session-200.data-00000-of-00001\r\n",
      "cnn_session-150.meta                  cnn_session-200.index\r\n",
      "cnn_session-18000.data-00000-of-00001 cnn_session-200.meta\r\n",
      "cnn_session-18000.index               cnn_session-20000.data-00000-of-00001\r\n",
      "cnn_session-18000.meta                cnn_session-20000.index\r\n",
      "cnn_session-18500.data-00000-of-00001 cnn_session-20000.meta\r\n",
      "cnn_session-18500.index               cnn_session-50.data-00000-of-00001\r\n",
      "cnn_session-18500.meta                cnn_session-50.index\r\n",
      "cnn_session-19000.data-00000-of-00001 cnn_session-50.meta\r\n",
      "cnn_session-19000.index\r\n"
     ]
    }
   ],
   "source": [
    "! ls cnn_session*"
   ]
  },
  {
   "cell_type": "code",
   "execution_count": null,
   "metadata": {},
   "outputs": [],
   "source": []
  }
 ],
 "metadata": {
  "kernelspec": {
   "display_name": "Python 3",
   "language": "python",
   "name": "python3"
  },
  "language_info": {
   "codemirror_mode": {
    "name": "ipython",
    "version": 3
   },
   "file_extension": ".py",
   "mimetype": "text/x-python",
   "name": "python",
   "nbconvert_exporter": "python",
   "pygments_lexer": "ipython3",
   "version": "3.6.5"
  }
 },
 "nbformat": 4,
 "nbformat_minor": 2
}
