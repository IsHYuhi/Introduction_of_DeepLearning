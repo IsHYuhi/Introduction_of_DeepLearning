{
 "cells": [
  {
   "cell_type": "markdown",
   "metadata": {},
   "source": [
    "# 畳み込みフィルターを用いた手書き文字の分類"
   ]
  },
  {
   "cell_type": "markdown",
   "metadata": {},
   "source": [
    "## セッション情報の保存機能\n",
    "TensorFlowではトレーニング処理を実施中のセッションの状態をファイルに保存しておくことができる"
   ]
  },
  {
   "cell_type": "markdown",
   "metadata": {},
   "source": [
    "## 単層CNNによる手書き文字の分類"
   ]
  },
  {
   "cell_type": "code",
   "execution_count": 1,
   "metadata": {},
   "outputs": [
    {
     "name": "stdout",
     "output_type": "stream",
     "text": [
      "WARNING:tensorflow:From /usr/local/lib/python3.6/site-packages/tensorflow/contrib/learn/python/learn/datasets/base.py:198: retry (from tensorflow.contrib.learn.python.learn.datasets.base) is deprecated and will be removed in a future version.\n",
      "Instructions for updating:\n",
      "Use the retry module or similar alternatives.\n"
     ]
    }
   ],
   "source": [
    "import tensorflow as tf\n",
    "import numpy as np\n",
    "import matplotlib.pyplot as plt\n",
    "from tensorflow.examples.tutorials.mnist import input_data\n",
    "\n",
    "np.random.seed(42)\n",
    "tf.set_random_seed(42)"
   ]
  },
  {
   "cell_type": "code",
   "execution_count": 2,
   "metadata": {},
   "outputs": [
    {
     "name": "stdout",
     "output_type": "stream",
     "text": [
      "WARNING:tensorflow:From <ipython-input-2-d651cc53d7d8>:1: read_data_sets (from tensorflow.contrib.learn.python.learn.datasets.mnist) is deprecated and will be removed in a future version.\n",
      "Instructions for updating:\n",
      "Please use alternatives such as official/mnist/dataset.py from tensorflow/models.\n",
      "WARNING:tensorflow:From /usr/local/lib/python3.6/site-packages/tensorflow/contrib/learn/python/learn/datasets/mnist.py:260: maybe_download (from tensorflow.contrib.learn.python.learn.datasets.base) is deprecated and will be removed in a future version.\n",
      "Instructions for updating:\n",
      "Please write your own downloading logic.\n",
      "WARNING:tensorflow:From /usr/local/lib/python3.6/site-packages/tensorflow/contrib/learn/python/learn/datasets/base.py:219: retry.<locals>.wrap.<locals>.wrapped_fn (from tensorflow.contrib.learn.python.learn.datasets.base) is deprecated and will be removed in a future version.\n",
      "Instructions for updating:\n",
      "Please use urllib or similar directly.\n",
      "Successfully downloaded train-images-idx3-ubyte.gz 9912422 bytes.\n",
      "WARNING:tensorflow:From /usr/local/lib/python3.6/site-packages/tensorflow/contrib/learn/python/learn/datasets/mnist.py:262: extract_images (from tensorflow.contrib.learn.python.learn.datasets.mnist) is deprecated and will be removed in a future version.\n",
      "Instructions for updating:\n",
      "Please use tf.data to implement this functionality.\n",
      "Extracting /tmp/data/train-images-idx3-ubyte.gz\n",
      "Successfully downloaded train-labels-idx1-ubyte.gz 28881 bytes.\n",
      "WARNING:tensorflow:From /usr/local/lib/python3.6/site-packages/tensorflow/contrib/learn/python/learn/datasets/mnist.py:267: extract_labels (from tensorflow.contrib.learn.python.learn.datasets.mnist) is deprecated and will be removed in a future version.\n",
      "Instructions for updating:\n",
      "Please use tf.data to implement this functionality.\n",
      "Extracting /tmp/data/train-labels-idx1-ubyte.gz\n",
      "WARNING:tensorflow:From /usr/local/lib/python3.6/site-packages/tensorflow/contrib/learn/python/learn/datasets/mnist.py:110: dense_to_one_hot (from tensorflow.contrib.learn.python.learn.datasets.mnist) is deprecated and will be removed in a future version.\n",
      "Instructions for updating:\n",
      "Please use tf.one_hot on tensors.\n",
      "Extracting /tmp/data/t10k-images-idx3-ubyte.gz\n",
      "Successfully downloaded t10k-labels-idx1-ubyte.gz 4542 bytes.\n",
      "Extracting /tmp/data/t10k-labels-idx1-ubyte.gz\n",
      "WARNING:tensorflow:From /usr/local/lib/python3.6/site-packages/tensorflow/contrib/learn/python/learn/datasets/mnist.py:290: DataSet.__init__ (from tensorflow.contrib.learn.python.learn.datasets.mnist) is deprecated and will be removed in a future version.\n",
      "Instructions for updating:\n",
      "Please use alternatives such as official/mnist/dataset.py from tensorflow/models.\n"
     ]
    }
   ],
   "source": [
    "mnist = input_data.read_data_sets(\"/tmp/data/\", one_hot=True)"
   ]
  },
  {
   "cell_type": "code",
   "execution_count": 4,
   "metadata": {},
   "outputs": [],
   "source": [
    "num_filters = 16\n",
    "\n",
    "x = tf.placeholder(tf.float32, [None, 784])\n",
    "x_image = tf.reshape(x, [-1, 28, 28, 1])\n",
    "\n",
    "W_conv = tf.Variable(tf.truncated_normal([5,5,1,num_filters], stddev = 0.1))#畳み込みフィルターの動的な学習\n",
    "#フィルターサイズ(縦x横) x 入力レイヤー数 x 出力レイヤー数\n",
    "#stddevオプションで乱数の範囲を指定 +-0.1\n",
    "\n",
    "h_conv = tf.nn.conv2d(x_image, W_conv, strides = [1,1,1,1], padding='SAME')\n",
    "\n",
    "h_pool = tf.nn.max_pool(h_conv, ksize = [1,2, 2, 1], strides=[1, 2, 2, 1], padding='SAME')\n",
    "#ここではエッジを取り出すことが目的ではなくあくまでも特徴を抽出することが目的なので、絶対値をとる操作は行わない.\n",
    "#ピクセルの値が負になる可能性があるが、画像の特徴を抽出したデータとしては、意味のあるものになっている。"
   ]
  },
  {
   "cell_type": "code",
   "execution_count": 5,
   "metadata": {},
   "outputs": [],
   "source": [
    "h_pool_flat = tf.reshape(h_pool, [-1, 14*14*num_filters])\n",
    "\n",
    "num_units1 = 14*14*num_filters\n",
    "num_units2 = 1024\n",
    "\n",
    "w2 = tf.Variable(tf.truncated_normal([num_units1,  num_units2]))\n",
    "b2 = tf.Variable(tf.zeros([num_units2]))\n",
    "hidden2 = tf.nn.relu(tf.matmul(h_pool_flat, w2) + b2)\n",
    "\n",
    "w0 = tf.Variable(tf.zeros([num_units2, 10]))\n",
    "b0 = tf.Variable(tf.zeros([10]))\n",
    "p = tf.nn.softmax(tf.matmul(hidden2, w0) + b0)"
   ]
  },
  {
   "cell_type": "code",
   "execution_count": 6,
   "metadata": {},
   "outputs": [],
   "source": [
    "t = tf.placeholder(tf.float32, [None, 10])\n",
    "loss = -tf.reduce_sum(t * tf.log(p))\n",
    "train_step = tf.train.AdamOptimizer(0.0005).minimize(loss)\n",
    "correct_prediction = tf.equal(tf.argmax(p, 1), tf.argmax(t, 1))\n",
    "accuracy = tf.reduce_mean(tf.cast(correct_prediction, tf.float32))"
   ]
  },
  {
   "cell_type": "code",
   "execution_count": 8,
   "metadata": {},
   "outputs": [],
   "source": [
    "sess = tf.InteractiveSession()\n",
    "sess.run(tf.global_variables_initializer())\n",
    "saver = tf.train.Saver() #save セッションの状態を保存\n",
    "#saver.restore(sess, 'mdc_session-4000')のようにしてセッションの状態を復元する"
   ]
  },
  {
   "cell_type": "code",
   "execution_count": 13,
   "metadata": {},
   "outputs": [
    {
     "name": "stdout",
     "output_type": "stream",
     "text": [
      "Step: 100, Loss: 1246.051880, Accuracy: 0.963100\n",
      "Step: 200, Loss: 1056.027588, Accuracy: 0.969600\n",
      "Step: 300, Loss: 893.175171, Accuracy: 0.972400\n",
      "Step: 400, Loss: 1024.038330, Accuracy: 0.970200\n",
      "Step: 500, Loss: 899.188599, Accuracy: 0.972900\n",
      "Step: 600, Loss: 908.228394, Accuracy: 0.972500\n",
      "Step: 700, Loss: 735.593567, Accuracy: 0.978000\n",
      "Step: 800, Loss: 1042.673950, Accuracy: 0.967700\n",
      "Step: 900, Loss: 777.806580, Accuracy: 0.977600\n",
      "Step: 1000, Loss: 829.814941, Accuracy: 0.975900\n",
      "Step: 1100, Loss: 811.404541, Accuracy: 0.976200\n",
      "Step: 1200, Loss: 765.644409, Accuracy: 0.978200\n",
      "Step: 1300, Loss: 773.578979, Accuracy: 0.977200\n",
      "Step: 1400, Loss: 690.804932, Accuracy: 0.980000\n",
      "Step: 1500, Loss: 677.963501, Accuracy: 0.978000\n",
      "Step: 1600, Loss: 738.879333, Accuracy: 0.978000\n",
      "Step: 1700, Loss: 669.488770, Accuracy: 0.979500\n",
      "Step: 1800, Loss: 828.950073, Accuracy: 0.975400\n",
      "Step: 1900, Loss: 767.830078, Accuracy: 0.977200\n",
      "Step: 2000, Loss: 699.538208, Accuracy: 0.978900\n",
      "Step: 2100, Loss: 655.494507, Accuracy: 0.982300\n",
      "Step: 2200, Loss: 662.485107, Accuracy: 0.980600\n",
      "Step: 2300, Loss: 703.887390, Accuracy: 0.980300\n",
      "Step: 2400, Loss: 686.292358, Accuracy: 0.981500\n",
      "Step: 2500, Loss: 663.880737, Accuracy: 0.980300\n",
      "Step: 2600, Loss: 665.681641, Accuracy: 0.980500\n",
      "Step: 2700, Loss: 669.582886, Accuracy: 0.981100\n",
      "Step: 2800, Loss: 794.271362, Accuracy: 0.978200\n",
      "Step: 2900, Loss: 719.788330, Accuracy: 0.980700\n",
      "Step: 3000, Loss: 795.685913, Accuracy: 0.979700\n",
      "Step: 3100, Loss: 736.348938, Accuracy: 0.980400\n",
      "Step: 3200, Loss: 881.405518, Accuracy: 0.976800\n",
      "Step: 3300, Loss: 717.640076, Accuracy: 0.980900\n",
      "Step: 3400, Loss: 753.077820, Accuracy: 0.980700\n",
      "Step: 3500, Loss: 902.519897, Accuracy: 0.976300\n",
      "Step: 3600, Loss: 716.072205, Accuracy: 0.982300\n",
      "Step: 3700, Loss: 701.259338, Accuracy: 0.982600\n",
      "Step: 3800, Loss: 687.395508, Accuracy: 0.982200\n",
      "Step: 3900, Loss: 790.519592, Accuracy: 0.981000\n",
      "Step: 4000, Loss: 812.050598, Accuracy: 0.981200\n"
     ]
    }
   ],
   "source": [
    "i = 0\n",
    "for _ in range (4000):\n",
    "    i += 1\n",
    "    batch_xs, batch_ts = mnist.train.next_batch(100)\n",
    "    sess.run(train_step, feed_dict={x:batch_xs, t:batch_ts})\n",
    "    if i % 100 ==0:\n",
    "        loss_val, acc_val = sess.run([loss, accuracy], feed_dict={x:mnist.test.images, t:mnist.test.labels})\n",
    "        print('Step: %d, Loss: %f, Accuracy: %f' % (i, loss_val, acc_val)) \n",
    "        saver.save(sess, './mdc_session', global_step = i)"
   ]
  },
  {
   "cell_type": "code",
   "execution_count": 14,
   "metadata": {},
   "outputs": [
    {
     "name": "stdout",
     "output_type": "stream",
     "text": [
      "mdc_session-3600.data-00000-of-00001 mdc_session-3800.meta\r\n",
      "mdc_session-3600.index               mdc_session-3900.data-00000-of-00001\r\n",
      "mdc_session-3600.meta                mdc_session-3900.index\r\n",
      "mdc_session-3700.data-00000-of-00001 mdc_session-3900.meta\r\n",
      "mdc_session-3700.index               mdc_session-4000.data-00000-of-00001\r\n",
      "mdc_session-3700.meta                mdc_session-4000.index\r\n",
      "mdc_session-3800.data-00000-of-00001 mdc_session-4000.meta\r\n",
      "mdc_session-3800.index\r\n"
     ]
    }
   ],
   "source": [
    "!ls mdc_session*"
   ]
  }
 ],
 "metadata": {
  "kernelspec": {
   "display_name": "Python 3",
   "language": "python",
   "name": "python3"
  },
  "language_info": {
   "codemirror_mode": {
    "name": "ipython",
    "version": 3
   },
   "file_extension": ".py",
   "mimetype": "text/x-python",
   "name": "python",
   "nbconvert_exporter": "python",
   "pygments_lexer": "ipython3",
   "version": "3.6.5"
  }
 },
 "nbformat": 4,
 "nbformat_minor": 2
}
